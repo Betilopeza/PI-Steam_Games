{
 "cells": [
  {
   "cell_type": "markdown",
   "metadata": {},
   "source": [
    "# PROYECTO INTEGRADOR: STEAM\n",
    "## Funciones para los endpoints"
   ]
  },
  {
   "cell_type": "markdown",
   "metadata": {},
   "source": [
    "El tratamiento de los datasets previo a las funciones, se realiza en el archivo 04_tratamiento_para_funciones.ipynb , por favor revisar ese archivo para comprender las modificaciones realizadas, allí podrá encontrar el tratamiento de cada dataset para intentar disminuir la cantidad de datos para optimizar la API."
   ]
  },
  {
   "cell_type": "code",
   "execution_count": 24,
   "metadata": {},
   "outputs": [],
   "source": [
    "#Importamos las librerías \n",
    "import pandas as pd"
   ]
  },
  {
   "cell_type": "code",
   "execution_count": 25,
   "metadata": {},
   "outputs": [],
   "source": [
    "#Dataset para función 1\n",
    "df_generos_horas_jugadas=pd.read_csv('Data/generos_horas_jugadas.csv')"
   ]
  },
  {
   "cell_type": "code",
   "execution_count": 26,
   "metadata": {},
   "outputs": [],
   "source": [
    "#Dataset para función 2\n",
    "df_usuario_horas_jugadas=pd.read_parquet('Data/usuario_horas_jugadas.parquet')"
   ]
  },
  {
   "cell_type": "code",
   "execution_count": 27,
   "metadata": {},
   "outputs": [],
   "source": [
    "#Dataset para función 3\n",
    "df_recomendaciones_positivas=pd.read_csv('Data/recomendaciones_positivas.csv')"
   ]
  },
  {
   "cell_type": "code",
   "execution_count": 28,
   "metadata": {},
   "outputs": [],
   "source": [
    "#Dataset para función 4\n",
    "df_recomendaciones_negativas=pd.read_csv('Data/recomendaciones_negativas.csv')"
   ]
  },
  {
   "cell_type": "code",
   "execution_count": 29,
   "metadata": {},
   "outputs": [],
   "source": [
    "#Dataset para función 5\n",
    "df_sentiment_analysis=pd.read_csv('Data/sentiment_analysis.csv')"
   ]
  },
  {
   "cell_type": "markdown",
   "metadata": {},
   "source": [
    "## **1) Función PlayGenRe**\n",
    "\n",
    "def PlayTimeGenre( genero : str ): Debe devolver año con mas horas jugadas para dicho género.\n",
    "#Ejemplo de retorno: {\"Año de lanzamiento con más horas jugadas para Género X\" : 2013}"
   ]
  },
  {
   "cell_type": "markdown",
   "metadata": {},
   "source": [
    "En el tratamiento se realizó un merge entre 2 de los datasets, luego un  group_by por genres y year_release, por lo que en esta instancia se debe seleccionar el género y el máximo año en función de los playtime sumados.Además, se eliminaron las columnas innecesarias."
   ]
  },
  {
   "cell_type": "code",
   "execution_count": 30,
   "metadata": {},
   "outputs": [],
   "source": [
    "def PlayTimeGenre(genero):\n",
    "    '''\n",
    "    Debe devolver año con mas horas jugadas para dicho género.\n",
    "    '''\n",
    "    #Vamos a utilizar el dataframe df_generos_horas_jugadas, que recordar que ya se encuentra agrupado en el archivo 04_tratamiento_para_funciones.ipynb\n",
    "    \n",
    "    genero=genero.lower()\n",
    "\n",
    "    # Filtramos el DataFrame por el género especificado\n",
    "    df_filtrado = df_generos_horas_jugadas[df_generos_horas_jugadas['genres'].str.lower() == genero]\n",
    "\n",
    "    # Encontrar el año con la máxima suma de horas jugadas\n",
    "    año_max_horas = df_filtrado.loc[df_filtrado['playtime_forever'].idxmax()]\n",
    "\n",
    "    return(\"El año con más horas jugadas para el genero \" + str(genero).capitalize() + \" es \" + str(año_max_horas['release_year']))\n"
   ]
  },
  {
   "cell_type": "code",
   "execution_count": 31,
   "metadata": {},
   "outputs": [
    {
     "data": {
      "text/plain": [
       "'El año con más horas jugadas para el genero Action es 2012'"
      ]
     },
     "execution_count": 31,
     "metadata": {},
     "output_type": "execute_result"
    }
   ],
   "source": [
    "#Verificamos el correcto funcionamiento de la función\n",
    "PlayTimeGenre('Action')"
   ]
  },
  {
   "cell_type": "code",
   "execution_count": 32,
   "metadata": {},
   "outputs": [
    {
     "data": {
      "text/plain": [
       "'El año con más horas jugadas para el genero Rpg es 2011'"
      ]
     },
     "execution_count": 32,
     "metadata": {},
     "output_type": "execute_result"
    }
   ],
   "source": [
    "#Verificamos el correcto funcionamiento de la función\n",
    "PlayTimeGenre('RPG')"
   ]
  },
  {
   "cell_type": "markdown",
   "metadata": {},
   "source": [
    "## **2) Función UserFonGenre**\n",
    "\n",
    "def UserForGenre( genero : str ): Debe devolver el usuario que acumula más horas jugadas para el género dado y una lista de la acumulación de horas jugadas por año.\n",
    "#Ejemplo de retorno: {\"Usuario con más horas jugadas para Género X\" : us213ndjss09sdf, \"Horas jugadas\":[{Año: 2013, Horas: 203}, {Año: 2012, Horas: 100}, {Año: 2011, Horas: 23}]}"
   ]
  },
  {
   "cell_type": "markdown",
   "metadata": {},
   "source": [
    "Como en el caso anterior, se hizo un merge análogo, luego un group by en función de genres, release_year y el user_id para sumar los playtime para encontrar el usuario con más horas jugadas, y luego poder mostrar la lista por año para ese usuario. Además, se eliminaron las columnas innecesarias. Recordar que los group by se realizaron en el archivo 04_tratamiento_para_funciones.ipynb.  "
   ]
  },
  {
   "cell_type": "code",
   "execution_count": 33,
   "metadata": {},
   "outputs": [],
   "source": [
    "def UserForGenre(genero: str):\n",
    "    '''\n",
    "    Debe devolver el usuario que acumula más horas jugadas para el género dado y una lista de la acumulación de horas jugadas por año.\n",
    "    \n",
    "    '''\n",
    "\n",
    "    genero=genero.lower()\n",
    "    # Filtra el dataframe df_final2 por el género solicitado\n",
    "    df_filtrado = df_usuario_horas_jugadas.loc[df_usuario_horas_jugadas[\"genres\"].str.lower() == genero]\n",
    "    # Comprueba si hay datos para el género solicitado\n",
    "\n",
    "    \n",
    "    if df_filtrado.empty:\n",
    "        return \"El genero ingresado no es válido\"\n",
    "    \n",
    "    # Agrupa el dataframe filtrado por el usuario y suma las horas jugadas\n",
    "    df_user = df_filtrado.groupby(\"user_id\")[\"playtime_forever\"].sum()\n",
    "\n",
    "    # Obtiene el usuario con más horas jugadas para el género solicitado\n",
    "    user = df_user.idxmax()\n",
    "\n",
    "    # Filtra el dataframe filtrado por el usuario obtenido\n",
    "    df_user_genre = df_filtrado.loc[df_filtrado[\"user_id\"] == user]\n",
    "\n",
    "    # Agrupa el dataframe filtrado por el año y suma las horas jugadas\n",
    "    df_user_year = df_user_genre.groupby(\"release_year\")[\"playtime_forever\"].sum()\n",
    "\n",
    "    # Crea una lista con la acumulación de horas jugadas por año\n",
    "    hours = [{\"Año\": year, \"Horas\": hours} for year, hours in df_user_year.items()]\n",
    "    \n",
    "    # Devuelve el usuario con más horas jugadas para el género solicitado y la lista de la acumulación de horas jugadas por año en formato JSON\n",
    "    return {f\"Usuario con más horas jugadas para el género {genero}\": user, \"Horas jugadas\": hours}"
   ]
  },
  {
   "cell_type": "code",
   "execution_count": 34,
   "metadata": {},
   "outputs": [
    {
     "data": {
      "text/plain": [
       "{'Usuario con más horas jugadas para el género action': 'Sp3ctre',\n",
       " 'Horas jugadas': [{'Año': 1995, 'Horas': 217},\n",
       "  {'Año': 1999, 'Horas': 44},\n",
       "  {'Año': 2000, 'Horas': 70644},\n",
       "  {'Año': 2001, 'Horas': 13},\n",
       "  {'Año': 2002, 'Horas': 238},\n",
       "  {'Año': 2003, 'Horas': 7673},\n",
       "  {'Año': 2004, 'Horas': 127411},\n",
       "  {'Año': 2005, 'Horas': 21339},\n",
       "  {'Año': 2006, 'Horas': 896},\n",
       "  {'Año': 2007, 'Horas': 112784},\n",
       "  {'Año': 2008, 'Horas': 224},\n",
       "  {'Año': 2009, 'Horas': 108326},\n",
       "  {'Año': 2010, 'Horas': 78083},\n",
       "  {'Año': 2011, 'Horas': 154896},\n",
       "  {'Año': 2012, 'Horas': 379522},\n",
       "  {'Año': 2013, 'Horas': 120461},\n",
       "  {'Año': 2014, 'Horas': 130691},\n",
       "  {'Año': 2015, 'Horas': 307511},\n",
       "  {'Año': 2016, 'Horas': 29576},\n",
       "  {'Año': 2017, 'Horas': 43327}]}"
      ]
     },
     "execution_count": 34,
     "metadata": {},
     "output_type": "execute_result"
    }
   ],
   "source": [
    "UserForGenre('Action')"
   ]
  },
  {
   "cell_type": "markdown",
   "metadata": {},
   "source": [
    "## **3) Función UsersRecommend**\n",
    "\n",
    "def UsersRecommend( año : int ): Devuelve el top 3 de juegos MÁS recomendados por usuarios para el año dado. (reviews.recommend = True y comentarios positivos/neutrales)\n",
    "#Ejemplo de retorno: [{\"Puesto 1\" : X}, {\"Puesto 2\" : Y},{\"Puesto 3\" : Z}]"
   ]
  },
  {
   "cell_type": "markdown",
   "metadata": {},
   "source": [
    "En este caso, para obtener el dataset se hizo un merge, se filtraron los recommend=True y los valores de la columna sentimiento igual a 1 y 2, por lo que ese filtro no se encuentra incluido dentro de la función.Además, se eliminaron las columnas innecesarias."
   ]
  },
  {
   "cell_type": "code",
   "execution_count": 35,
   "metadata": {},
   "outputs": [],
   "source": [
    "def UsersRecommend(año: int):\n",
    "\n",
    "    '''\n",
    "    Devuelve el top 3 de juegos MÁS recomendados por usuarios para el año dado. (reviews.recommend = True y comentarios positivos/neutrales)\n",
    "    '''\n",
    "\n",
    "    #Se utiliza el dataframe df_recomendaciones_positivas que ya se encuentra filtrado por recommend y sentimiento en el archivo 04_tratamiento_para_funciones.ipynb\n",
    "\n",
    "    df_filtrado = df_recomendaciones_positivas[df_recomendaciones_positivas['year_review'] == año]\n",
    "\n",
    "    if df_filtrado.empty:\n",
    "        return f\"No se encontraron juegos para el año ingresado\"\n",
    "\n",
    "    # Agrupo las filas contando las recomendaciones por titulo\n",
    "    recomendaciones = df_filtrado.groupby('title')['recommend'].count().reset_index()\n",
    "\n",
    "    # Ordeno en orden descendente\n",
    "    top_games = recomendaciones.sort_values(by='recommend', ascending=False)\n",
    "\n",
    "    # Selecciono los 3 juegos principales\n",
    "    top_3_games = top_games.head(3)\n",
    "\n",
    "    # resultado\n",
    "    resultado = [{\"Puesto {}: {}\".format(i + 1, juego)} for i, juego in enumerate(top_3_games['title'])]\n",
    "\n",
    "    return resultado\n"
   ]
  },
  {
   "cell_type": "code",
   "execution_count": 36,
   "metadata": {},
   "outputs": [
    {
     "data": {
      "text/plain": [
       "[{'Puesto 1: Counter-Strike: Global Offensive'},\n",
       " {'Puesto 2: Unturned'},\n",
       " {'Puesto 3: Team Fortress 2'}]"
      ]
     },
     "execution_count": 36,
     "metadata": {},
     "output_type": "execute_result"
    }
   ],
   "source": [
    "UsersRecommend(2015)"
   ]
  },
  {
   "cell_type": "markdown",
   "metadata": {},
   "source": [
    " ## **4) Función UsersNotRecommend**\n",
    "\n",
    "def UsersNotRecommend( año : int ): Devuelve el top 3 de juegos MENOS recomendados por usuarios para el año dado. (reviews.recommend = False y comentarios negativos)\n",
    "#Ejemplo de retorno: [{\"Puesto 1\" : X}, {\"Puesto 2\" : Y},{\"Puesto 3\" : Z}]"
   ]
  },
  {
   "cell_type": "markdown",
   "metadata": {},
   "source": [
    "En este caso, para obtener el dataset se hizo un merge, se filtraron los recommend=False y los valores de la columna sentimiento igual a 0, por lo que ese filtro no se encuentra incluido dentro de la función. Además, se eliminaron las columnas innecesarias."
   ]
  },
  {
   "cell_type": "code",
   "execution_count": 37,
   "metadata": {},
   "outputs": [],
   "source": [
    "def UsersNotRecommend(año):\n",
    "\n",
    "    '''\n",
    "    Devuelve el top 3 de juegos MENOS recomendados por usuarios para el año dado. (reviews.recommend = False y comentarios negativos)\n",
    "    \n",
    "    '''\n",
    "    #Se utiliza el dataframe df_recomendaciones_negativas que ya se encuentra filtrado por recommend y sentimiento en el archivo 04_tratamiento_para_funciones.ipynb\n",
    "    \n",
    "    df_filtrado = df_recomendaciones_negativas[df_recomendaciones_negativas['year_review'] == año]\n",
    "\n",
    "    if df_filtrado.empty:\n",
    "        return f\"No se encontraron juegos para el año ingresado\"\n",
    "\n",
    "    # Agrupo las filas por el nombre del juego y cuento las no recomendaciones\n",
    "    recomendaciones = df_filtrado.groupby('title')['recommend'].count().reset_index()\n",
    "\n",
    "    # Ordeno en orden descendente\n",
    "    bottom_games = recomendaciones.sort_values(by='recommend', ascending=True)\n",
    "\n",
    "    # Selecciono los 3 juegos principales\n",
    "    bottom_3_games = bottom_games.head(3)\n",
    "\n",
    "    # resultado\n",
    "    resultado = [{\"Puesto {}: {}\".format(i + 1, juego)} for i, juego in enumerate(bottom_3_games['title'])]\n",
    "\n",
    "    return resultado"
   ]
  },
  {
   "cell_type": "code",
   "execution_count": 38,
   "metadata": {},
   "outputs": [
    {
     "data": {
      "text/plain": [
       "[{'Puesto 1: Saints Row 2'},\n",
       " {'Puesto 2: Tales of Zestiria'},\n",
       " {'Puesto 3: Pillars of Eternity'}]"
      ]
     },
     "execution_count": 38,
     "metadata": {},
     "output_type": "execute_result"
    }
   ],
   "source": [
    "UsersNotRecommend(2015)"
   ]
  },
  {
   "cell_type": "markdown",
   "metadata": {},
   "source": [
    "## **5) Función sentiment_analysis**\n",
    "\n",
    "def sentiment_analysis( año : int ): Según el año de lanzamiento, se devuelve una lista con la cantidad de registros de reseñas de usuarios que se encuentren categorizados con un análisis de sentimiento.\n",
    "#Ejemplo de retorno: {Negative = 182, Neutral = 120, Positive = 278}"
   ]
  },
  {
   "cell_type": "markdown",
   "metadata": {},
   "source": [
    "Para este caso, se hizo el merge de los datos y se exportó eliminando las columnas que no eran necesarias. Dicho proceso se puede ver en el archivo 04_tratamiento_para_funciones.ipynb."
   ]
  },
  {
   "cell_type": "code",
   "execution_count": 39,
   "metadata": {},
   "outputs": [],
   "source": [
    "def sentiment_analysis(año):\n",
    "    '''\n",
    "    Según el año de lanzamiento, se devuelve una lista con la cantidad de registros de reseñas de usuarios que se encuentren categorizados con un análisis de sentimiento.\n",
    "    '''\n",
    "\n",
    "    #Se utiliza el dataframe df_sentiment_analysis que ya se encuentra filtrado por recommend y sentimiento en el archivo 04_tratamiento_para_funciones.ipynb\n",
    "    \n",
    "    # Filtrar el DataFrame por el año de lanzamiento especificado\n",
    "    df_filtrado = df_sentiment_analysis[df_sentiment_analysis['release_year'] == int(año)]\n",
    "\n",
    "    if df_filtrado.empty:\n",
    "        return 'No hay datos para el año ingresado'\n",
    "    \n",
    "    # Contar la cantidad de registros de cada categoría de sentimiento\n",
    "    conteo_sentimiento = df_filtrado['sentimiento'].value_counts().to_dict()\n",
    "\n",
    "    # Crear un diccionario con etiquetas descriptivas\n",
    "    resultado = {\n",
    "        'Negative': conteo_sentimiento.get(0, 0),\n",
    "        'Neutral': conteo_sentimiento.get(1, 0),\n",
    "        'Positive': conteo_sentimiento.get(2, 0)\n",
    "    }\n",
    "\n",
    "    return resultado"
   ]
  },
  {
   "cell_type": "code",
   "execution_count": 40,
   "metadata": {},
   "outputs": [
    {
     "data": {
      "text/plain": [
       "{'Negative': 23, 'Neutral': 15, 'Positive': 55}"
      ]
     },
     "execution_count": 40,
     "metadata": {},
     "output_type": "execute_result"
    }
   ],
   "source": [
    "sentiment_analysis(1998)"
   ]
  }
 ],
 "metadata": {
  "kernelspec": {
   "display_name": "Python 3",
   "language": "python",
   "name": "python3"
  },
  "language_info": {
   "codemirror_mode": {
    "name": "ipython",
    "version": 3
   },
   "file_extension": ".py",
   "mimetype": "text/x-python",
   "name": "python",
   "nbconvert_exporter": "python",
   "pygments_lexer": "ipython3",
   "version": "3.11.2"
  },
  "orig_nbformat": 4
 },
 "nbformat": 4,
 "nbformat_minor": 2
}
