{
 "cells": [
  {
   "cell_type": "markdown",
   "metadata": {},
   "source": [
    "# PROYECTO INTEGRADOR: STEAM\n",
    "## Tratamiento de los datasets para las funciones"
   ]
  },
  {
   "cell_type": "markdown",
   "metadata": {},
   "source": [
    "En este notebook se presentan las modificaciones y relaciones entre los datasets obtenidos por el ETL de manera que nos permiten optimizar las funciones requeridas. \n"
   ]
  },
  {
   "cell_type": "markdown",
   "metadata": {},
   "source": [
    "Se intentará en cada caso (y en la medida de lo posible) filtrar las columnas y los registros requeridos para las funciones en este archivo, de manera de que la información llegue lo más limpia posible a la API y no haya inconvenientes por la cantidad de datos."
   ]
  },
  {
   "cell_type": "markdown",
   "metadata": {},
   "source": [
    "Para cada función en específico, plantearemos un dataset lo más óptimo posible, que exportaremos desde este archivo pero que importaremos luego en el main.py necesario para fastAPI."
   ]
  },
  {
   "cell_type": "code",
   "execution_count": 56,
   "metadata": {},
   "outputs": [],
   "source": [
    "#Importamos librerías\n",
    "import pandas as pd\n",
    "import ast"
   ]
  },
  {
   "cell_type": "code",
   "execution_count": 57,
   "metadata": {},
   "outputs": [
    {
     "data": {
      "text/html": [
       "<div>\n",
       "<style scoped>\n",
       "    .dataframe tbody tr th:only-of-type {\n",
       "        vertical-align: middle;\n",
       "    }\n",
       "\n",
       "    .dataframe tbody tr th {\n",
       "        vertical-align: top;\n",
       "    }\n",
       "\n",
       "    .dataframe thead th {\n",
       "        text-align: right;\n",
       "    }\n",
       "</style>\n",
       "<table border=\"1\" class=\"dataframe\">\n",
       "  <thead>\n",
       "    <tr style=\"text-align: right;\">\n",
       "      <th></th>\n",
       "      <th>genres</th>\n",
       "      <th>title</th>\n",
       "      <th>id</th>\n",
       "      <th>release_year</th>\n",
       "    </tr>\n",
       "  </thead>\n",
       "  <tbody>\n",
       "    <tr>\n",
       "      <th>0</th>\n",
       "      <td>Action</td>\n",
       "      <td>Lost Summoner Kitty</td>\n",
       "      <td>761140</td>\n",
       "      <td>2018</td>\n",
       "    </tr>\n",
       "    <tr>\n",
       "      <th>1</th>\n",
       "      <td>Casual</td>\n",
       "      <td>Lost Summoner Kitty</td>\n",
       "      <td>761140</td>\n",
       "      <td>2018</td>\n",
       "    </tr>\n",
       "    <tr>\n",
       "      <th>2</th>\n",
       "      <td>Indie</td>\n",
       "      <td>Lost Summoner Kitty</td>\n",
       "      <td>761140</td>\n",
       "      <td>2018</td>\n",
       "    </tr>\n",
       "    <tr>\n",
       "      <th>3</th>\n",
       "      <td>Simulation</td>\n",
       "      <td>Lost Summoner Kitty</td>\n",
       "      <td>761140</td>\n",
       "      <td>2018</td>\n",
       "    </tr>\n",
       "    <tr>\n",
       "      <th>4</th>\n",
       "      <td>Strategy</td>\n",
       "      <td>Lost Summoner Kitty</td>\n",
       "      <td>761140</td>\n",
       "      <td>2018</td>\n",
       "    </tr>\n",
       "  </tbody>\n",
       "</table>\n",
       "</div>"
      ],
      "text/plain": [
       "       genres                title      id  release_year\n",
       "0      Action  Lost Summoner Kitty  761140          2018\n",
       "1      Casual  Lost Summoner Kitty  761140          2018\n",
       "2       Indie  Lost Summoner Kitty  761140          2018\n",
       "3  Simulation  Lost Summoner Kitty  761140          2018\n",
       "4    Strategy  Lost Summoner Kitty  761140          2018"
      ]
     },
     "execution_count": 57,
     "metadata": {},
     "output_type": "execute_result"
    }
   ],
   "source": [
    "#Importamos el dataset de games\n",
    "df_games=pd.read_csv('Data/games.csv')\n",
    "df_games.head()"
   ]
  },
  {
   "cell_type": "code",
   "execution_count": 58,
   "metadata": {},
   "outputs": [
    {
     "data": {
      "text/html": [
       "<div>\n",
       "<style scoped>\n",
       "    .dataframe tbody tr th:only-of-type {\n",
       "        vertical-align: middle;\n",
       "    }\n",
       "\n",
       "    .dataframe tbody tr th {\n",
       "        vertical-align: top;\n",
       "    }\n",
       "\n",
       "    .dataframe thead th {\n",
       "        text-align: right;\n",
       "    }\n",
       "</style>\n",
       "<table border=\"1\" class=\"dataframe\">\n",
       "  <thead>\n",
       "    <tr style=\"text-align: right;\">\n",
       "      <th></th>\n",
       "      <th>user_id</th>\n",
       "      <th>item_id</th>\n",
       "      <th>recommend</th>\n",
       "      <th>year_review</th>\n",
       "      <th>sentimiento</th>\n",
       "    </tr>\n",
       "  </thead>\n",
       "  <tbody>\n",
       "    <tr>\n",
       "      <th>0</th>\n",
       "      <td>76561197970982479</td>\n",
       "      <td>1250</td>\n",
       "      <td>True</td>\n",
       "      <td>2011</td>\n",
       "      <td>2</td>\n",
       "    </tr>\n",
       "    <tr>\n",
       "      <th>1</th>\n",
       "      <td>76561197970982479</td>\n",
       "      <td>22200</td>\n",
       "      <td>True</td>\n",
       "      <td>2011</td>\n",
       "      <td>2</td>\n",
       "    </tr>\n",
       "    <tr>\n",
       "      <th>2</th>\n",
       "      <td>76561197970982479</td>\n",
       "      <td>43110</td>\n",
       "      <td>True</td>\n",
       "      <td>2011</td>\n",
       "      <td>2</td>\n",
       "    </tr>\n",
       "    <tr>\n",
       "      <th>3</th>\n",
       "      <td>js41637</td>\n",
       "      <td>251610</td>\n",
       "      <td>True</td>\n",
       "      <td>2014</td>\n",
       "      <td>2</td>\n",
       "    </tr>\n",
       "    <tr>\n",
       "      <th>4</th>\n",
       "      <td>js41637</td>\n",
       "      <td>227300</td>\n",
       "      <td>True</td>\n",
       "      <td>2013</td>\n",
       "      <td>0</td>\n",
       "    </tr>\n",
       "  </tbody>\n",
       "</table>\n",
       "</div>"
      ],
      "text/plain": [
       "             user_id  item_id  recommend  year_review  sentimiento\n",
       "0  76561197970982479     1250       True         2011            2\n",
       "1  76561197970982479    22200       True         2011            2\n",
       "2  76561197970982479    43110       True         2011            2\n",
       "3            js41637   251610       True         2014            2\n",
       "4            js41637   227300       True         2013            0"
      ]
     },
     "execution_count": 58,
     "metadata": {},
     "output_type": "execute_result"
    }
   ],
   "source": [
    "#Importamos el dataset de reviews\n",
    "df_reviews=pd.read_csv('Data/reviews.csv')\n",
    "df_reviews.head()"
   ]
  },
  {
   "cell_type": "code",
   "execution_count": 59,
   "metadata": {},
   "outputs": [
    {
     "data": {
      "text/html": [
       "<div>\n",
       "<style scoped>\n",
       "    .dataframe tbody tr th:only-of-type {\n",
       "        vertical-align: middle;\n",
       "    }\n",
       "\n",
       "    .dataframe tbody tr th {\n",
       "        vertical-align: top;\n",
       "    }\n",
       "\n",
       "    .dataframe thead th {\n",
       "        text-align: right;\n",
       "    }\n",
       "</style>\n",
       "<table border=\"1\" class=\"dataframe\">\n",
       "  <thead>\n",
       "    <tr style=\"text-align: right;\">\n",
       "      <th></th>\n",
       "      <th>user_id</th>\n",
       "      <th>item_id</th>\n",
       "      <th>item_name</th>\n",
       "      <th>playtime_forever</th>\n",
       "    </tr>\n",
       "  </thead>\n",
       "  <tbody>\n",
       "    <tr>\n",
       "      <th>0</th>\n",
       "      <td>76561197970982479</td>\n",
       "      <td>10</td>\n",
       "      <td>Counter-Strike</td>\n",
       "      <td>6</td>\n",
       "    </tr>\n",
       "    <tr>\n",
       "      <th>1</th>\n",
       "      <td>76561197970982479</td>\n",
       "      <td>30</td>\n",
       "      <td>Day of Defeat</td>\n",
       "      <td>7</td>\n",
       "    </tr>\n",
       "    <tr>\n",
       "      <th>2</th>\n",
       "      <td>76561197970982479</td>\n",
       "      <td>300</td>\n",
       "      <td>Day of Defeat: Source</td>\n",
       "      <td>4733</td>\n",
       "    </tr>\n",
       "    <tr>\n",
       "      <th>3</th>\n",
       "      <td>76561197970982479</td>\n",
       "      <td>240</td>\n",
       "      <td>Counter-Strike: Source</td>\n",
       "      <td>1853</td>\n",
       "    </tr>\n",
       "    <tr>\n",
       "      <th>4</th>\n",
       "      <td>76561197970982479</td>\n",
       "      <td>3830</td>\n",
       "      <td>Psychonauts</td>\n",
       "      <td>333</td>\n",
       "    </tr>\n",
       "  </tbody>\n",
       "</table>\n",
       "</div>"
      ],
      "text/plain": [
       "             user_id  item_id               item_name  playtime_forever\n",
       "0  76561197970982479       10          Counter-Strike                 6\n",
       "1  76561197970982479       30           Day of Defeat                 7\n",
       "2  76561197970982479      300   Day of Defeat: Source              4733\n",
       "3  76561197970982479      240  Counter-Strike: Source              1853\n",
       "4  76561197970982479     3830             Psychonauts               333"
      ]
     },
     "execution_count": 59,
     "metadata": {},
     "output_type": "execute_result"
    }
   ],
   "source": [
    "#Importamos el dataset de items\n",
    "df_items=pd.read_csv('Data/items.csv')\n",
    "df_items.head()"
   ]
  },
  {
   "cell_type": "markdown",
   "metadata": {},
   "source": [
    "## **1) Función PlayGenRe**\n",
    "\n",
    "def PlayTimeGenre( genero : str ): Debe devolver año con mas horas jugadas para dicho género.\n",
    "#Ejemplo de retorno: {\"Año de lanzamiento con más horas jugadas para Género X\" : 2013}"
   ]
  },
  {
   "cell_type": "markdown",
   "metadata": {},
   "source": [
    "En este caso, vamos a considerar un dataset que solo contengan los géneros, el release_year (año de lanzamiento) y las horas jugadas (playtime_forever). Lo llamaremos: dataset_generos_horas_jugadas."
   ]
  },
  {
   "cell_type": "markdown",
   "metadata": {},
   "source": [
    "Como en el dataframe de games tenemos la información correspondiente a los géneros y a los años de lanzamiento, y en el dataframe de items poseemos la información de las horas de juego, vamos a hacer un merge entre ambos dataframe basándonos en el item_id (que el df_games se llama id, y en df_items se llama item_id)"
   ]
  },
  {
   "cell_type": "code",
   "execution_count": 60,
   "metadata": {},
   "outputs": [],
   "source": [
    "#Se hace un merge entre los dos dataframes\n",
    "df_generos_horas_jugadas = pd.merge(df_games, df_items, left_on='id', right_on='item_id', how='inner')\n"
   ]
  },
  {
   "cell_type": "code",
   "execution_count": 61,
   "metadata": {},
   "outputs": [
    {
     "data": {
      "text/html": [
       "<div>\n",
       "<style scoped>\n",
       "    .dataframe tbody tr th:only-of-type {\n",
       "        vertical-align: middle;\n",
       "    }\n",
       "\n",
       "    .dataframe tbody tr th {\n",
       "        vertical-align: top;\n",
       "    }\n",
       "\n",
       "    .dataframe thead th {\n",
       "        text-align: right;\n",
       "    }\n",
       "</style>\n",
       "<table border=\"1\" class=\"dataframe\">\n",
       "  <thead>\n",
       "    <tr style=\"text-align: right;\">\n",
       "      <th></th>\n",
       "      <th>genres</th>\n",
       "      <th>title</th>\n",
       "      <th>id</th>\n",
       "      <th>release_year</th>\n",
       "      <th>user_id</th>\n",
       "      <th>item_id</th>\n",
       "      <th>item_name</th>\n",
       "      <th>playtime_forever</th>\n",
       "    </tr>\n",
       "  </thead>\n",
       "  <tbody>\n",
       "    <tr>\n",
       "      <th>0</th>\n",
       "      <td>Action</td>\n",
       "      <td>Carmageddon Max Pack</td>\n",
       "      <td>282010</td>\n",
       "      <td>1997</td>\n",
       "      <td>UTNerd24</td>\n",
       "      <td>282010</td>\n",
       "      <td>Carmageddon Max Pack</td>\n",
       "      <td>5</td>\n",
       "    </tr>\n",
       "    <tr>\n",
       "      <th>1</th>\n",
       "      <td>Action</td>\n",
       "      <td>Carmageddon Max Pack</td>\n",
       "      <td>282010</td>\n",
       "      <td>1997</td>\n",
       "      <td>saint556</td>\n",
       "      <td>282010</td>\n",
       "      <td>Carmageddon Max Pack</td>\n",
       "      <td>13</td>\n",
       "    </tr>\n",
       "    <tr>\n",
       "      <th>2</th>\n",
       "      <td>Action</td>\n",
       "      <td>Carmageddon Max Pack</td>\n",
       "      <td>282010</td>\n",
       "      <td>1997</td>\n",
       "      <td>chidvd</td>\n",
       "      <td>282010</td>\n",
       "      <td>Carmageddon Max Pack</td>\n",
       "      <td>110</td>\n",
       "    </tr>\n",
       "    <tr>\n",
       "      <th>3</th>\n",
       "      <td>Action</td>\n",
       "      <td>Carmageddon Max Pack</td>\n",
       "      <td>282010</td>\n",
       "      <td>1997</td>\n",
       "      <td>aerpub</td>\n",
       "      <td>282010</td>\n",
       "      <td>Carmageddon Max Pack</td>\n",
       "      <td>13</td>\n",
       "    </tr>\n",
       "    <tr>\n",
       "      <th>4</th>\n",
       "      <td>Action</td>\n",
       "      <td>Carmageddon Max Pack</td>\n",
       "      <td>282010</td>\n",
       "      <td>1997</td>\n",
       "      <td>lucifer666678</td>\n",
       "      <td>282010</td>\n",
       "      <td>Carmageddon Max Pack</td>\n",
       "      <td>8</td>\n",
       "    </tr>\n",
       "  </tbody>\n",
       "</table>\n",
       "</div>"
      ],
      "text/plain": [
       "   genres                 title      id  release_year        user_id  item_id  \\\n",
       "0  Action  Carmageddon Max Pack  282010          1997       UTNerd24   282010   \n",
       "1  Action  Carmageddon Max Pack  282010          1997       saint556   282010   \n",
       "2  Action  Carmageddon Max Pack  282010          1997         chidvd   282010   \n",
       "3  Action  Carmageddon Max Pack  282010          1997         aerpub   282010   \n",
       "4  Action  Carmageddon Max Pack  282010          1997  lucifer666678   282010   \n",
       "\n",
       "              item_name  playtime_forever  \n",
       "0  Carmageddon Max Pack                 5  \n",
       "1  Carmageddon Max Pack                13  \n",
       "2  Carmageddon Max Pack               110  \n",
       "3  Carmageddon Max Pack                13  \n",
       "4  Carmageddon Max Pack                 8  "
      ]
     },
     "execution_count": 61,
     "metadata": {},
     "output_type": "execute_result"
    }
   ],
   "source": [
    "#Observamos como nos quedan los datos\n",
    "df_generos_horas_jugadas.head()"
   ]
  },
  {
   "cell_type": "code",
   "execution_count": 62,
   "metadata": {},
   "outputs": [],
   "source": [
    "#Eliminamos las columnas que no vamos a utilizar, y nos quedamos solo con las mencionadas anteriormente.\n",
    "df_generos_horas_jugadas=df_generos_horas_jugadas.drop(columns=['title','id','item_id','item_name','user_id'])"
   ]
  },
  {
   "cell_type": "code",
   "execution_count": 63,
   "metadata": {},
   "outputs": [
    {
     "data": {
      "text/html": [
       "<div>\n",
       "<style scoped>\n",
       "    .dataframe tbody tr th:only-of-type {\n",
       "        vertical-align: middle;\n",
       "    }\n",
       "\n",
       "    .dataframe tbody tr th {\n",
       "        vertical-align: top;\n",
       "    }\n",
       "\n",
       "    .dataframe thead th {\n",
       "        text-align: right;\n",
       "    }\n",
       "</style>\n",
       "<table border=\"1\" class=\"dataframe\">\n",
       "  <thead>\n",
       "    <tr style=\"text-align: right;\">\n",
       "      <th></th>\n",
       "      <th>genres</th>\n",
       "      <th>release_year</th>\n",
       "      <th>playtime_forever</th>\n",
       "    </tr>\n",
       "  </thead>\n",
       "  <tbody>\n",
       "    <tr>\n",
       "      <th>0</th>\n",
       "      <td>Action</td>\n",
       "      <td>1997</td>\n",
       "      <td>5</td>\n",
       "    </tr>\n",
       "    <tr>\n",
       "      <th>1</th>\n",
       "      <td>Action</td>\n",
       "      <td>1997</td>\n",
       "      <td>13</td>\n",
       "    </tr>\n",
       "    <tr>\n",
       "      <th>2</th>\n",
       "      <td>Action</td>\n",
       "      <td>1997</td>\n",
       "      <td>110</td>\n",
       "    </tr>\n",
       "    <tr>\n",
       "      <th>3</th>\n",
       "      <td>Action</td>\n",
       "      <td>1997</td>\n",
       "      <td>13</td>\n",
       "    </tr>\n",
       "    <tr>\n",
       "      <th>4</th>\n",
       "      <td>Action</td>\n",
       "      <td>1997</td>\n",
       "      <td>8</td>\n",
       "    </tr>\n",
       "  </tbody>\n",
       "</table>\n",
       "</div>"
      ],
      "text/plain": [
       "   genres  release_year  playtime_forever\n",
       "0  Action          1997                 5\n",
       "1  Action          1997                13\n",
       "2  Action          1997               110\n",
       "3  Action          1997                13\n",
       "4  Action          1997                 8"
      ]
     },
     "execution_count": 63,
     "metadata": {},
     "output_type": "execute_result"
    }
   ],
   "source": [
    "df_generos_horas_jugadas.head()"
   ]
  },
  {
   "cell_type": "markdown",
   "metadata": {},
   "source": [
    "Como una manera de simplificar la función, modificamos nuestro dataset de manera que funcione de una manera más óptima en el render. Lo que se procede a hacer es, sabiendo que para cada género dado queremos que la función nos sume el playtime_forever por año, por lo que haremos un group by."
   ]
  },
  {
   "cell_type": "code",
   "execution_count": 64,
   "metadata": {},
   "outputs": [],
   "source": [
    "#Se agrupa en función de genres y release_year, sumando los playtime_forever y reseteando los índices \n",
    "df_generos_horas_jugadas = df_generos_horas_jugadas.groupby(['genres','release_year'])['playtime_forever'].sum().reset_index()"
   ]
  },
  {
   "cell_type": "code",
   "execution_count": 65,
   "metadata": {},
   "outputs": [
    {
     "data": {
      "text/html": [
       "<div>\n",
       "<style scoped>\n",
       "    .dataframe tbody tr th:only-of-type {\n",
       "        vertical-align: middle;\n",
       "    }\n",
       "\n",
       "    .dataframe tbody tr th {\n",
       "        vertical-align: top;\n",
       "    }\n",
       "\n",
       "    .dataframe thead th {\n",
       "        text-align: right;\n",
       "    }\n",
       "</style>\n",
       "<table border=\"1\" class=\"dataframe\">\n",
       "  <thead>\n",
       "    <tr style=\"text-align: right;\">\n",
       "      <th></th>\n",
       "      <th>genres</th>\n",
       "      <th>release_year</th>\n",
       "      <th>playtime_forever</th>\n",
       "    </tr>\n",
       "  </thead>\n",
       "  <tbody>\n",
       "    <tr>\n",
       "      <th>0</th>\n",
       "      <td>Action</td>\n",
       "      <td>1983</td>\n",
       "      <td>3582</td>\n",
       "    </tr>\n",
       "    <tr>\n",
       "      <th>1</th>\n",
       "      <td>Action</td>\n",
       "      <td>1984</td>\n",
       "      <td>384</td>\n",
       "    </tr>\n",
       "    <tr>\n",
       "      <th>2</th>\n",
       "      <td>Action</td>\n",
       "      <td>1988</td>\n",
       "      <td>16243</td>\n",
       "    </tr>\n",
       "    <tr>\n",
       "      <th>3</th>\n",
       "      <td>Action</td>\n",
       "      <td>1989</td>\n",
       "      <td>607</td>\n",
       "    </tr>\n",
       "    <tr>\n",
       "      <th>4</th>\n",
       "      <td>Action</td>\n",
       "      <td>1990</td>\n",
       "      <td>18787</td>\n",
       "    </tr>\n",
       "    <tr>\n",
       "      <th>...</th>\n",
       "      <td>...</td>\n",
       "      <td>...</td>\n",
       "      <td>...</td>\n",
       "    </tr>\n",
       "    <tr>\n",
       "      <th>335</th>\n",
       "      <td>Web Publishing</td>\n",
       "      <td>2013</td>\n",
       "      <td>335849</td>\n",
       "    </tr>\n",
       "    <tr>\n",
       "      <th>336</th>\n",
       "      <td>Web Publishing</td>\n",
       "      <td>2014</td>\n",
       "      <td>33732</td>\n",
       "    </tr>\n",
       "    <tr>\n",
       "      <th>337</th>\n",
       "      <td>Web Publishing</td>\n",
       "      <td>2015</td>\n",
       "      <td>348861</td>\n",
       "    </tr>\n",
       "    <tr>\n",
       "      <th>338</th>\n",
       "      <td>Web Publishing</td>\n",
       "      <td>2016</td>\n",
       "      <td>136</td>\n",
       "    </tr>\n",
       "    <tr>\n",
       "      <th>339</th>\n",
       "      <td>Web Publishing</td>\n",
       "      <td>2017</td>\n",
       "      <td>9713</td>\n",
       "    </tr>\n",
       "  </tbody>\n",
       "</table>\n",
       "<p>340 rows × 3 columns</p>\n",
       "</div>"
      ],
      "text/plain": [
       "             genres  release_year  playtime_forever\n",
       "0            Action          1983              3582\n",
       "1            Action          1984               384\n",
       "2            Action          1988             16243\n",
       "3            Action          1989               607\n",
       "4            Action          1990             18787\n",
       "..              ...           ...               ...\n",
       "335  Web Publishing          2013            335849\n",
       "336  Web Publishing          2014             33732\n",
       "337  Web Publishing          2015            348861\n",
       "338  Web Publishing          2016               136\n",
       "339  Web Publishing          2017              9713\n",
       "\n",
       "[340 rows x 3 columns]"
      ]
     },
     "execution_count": 65,
     "metadata": {},
     "output_type": "execute_result"
    }
   ],
   "source": [
    "#Verificamos que se hayan agrupado correctamente\n",
    "df_generos_horas_jugadas"
   ]
  },
  {
   "cell_type": "markdown",
   "metadata": {},
   "source": [
    "Logramos disminuir nuestro dataset a 3 columnas y 340 filas."
   ]
  },
  {
   "cell_type": "markdown",
   "metadata": {},
   "source": [
    "Este dataset lo usaremos para la primera función, por lo que procederemos a exportarlo en csv, para utilizarlo en nuestro archivo main.py"
   ]
  },
  {
   "cell_type": "code",
   "execution_count": 66,
   "metadata": {},
   "outputs": [],
   "source": [
    "#Exportamos a csv\n",
    "df_generos_horas_jugadas.to_csv('Data/generos_horas_jugadas.csv', index=False)"
   ]
  },
  {
   "cell_type": "markdown",
   "metadata": {},
   "source": [
    "## **2) Función UserFonGenre**\n",
    "\n",
    "def UserForGenre( genero : str ): Debe devolver el usuario que acumula más horas jugadas para el género dado y una lista de la acumulación de horas jugadas por año.\n",
    "#Ejemplo de retorno: {\"Usuario con más horas jugadas para Género X\" : us213ndjss09sdf, \"Horas jugadas\":[{Año: 2013, Horas: 203}, {Año: 2012, Horas: 100}, {Año: 2011, Horas: 23}]}\n"
   ]
  },
  {
   "cell_type": "markdown",
   "metadata": {},
   "source": [
    "Para crear el dataframe para esta función haremos un procedimiento parecido al realizado anteriormente. \n",
    "En este caso, nos piden que al ingresar un género, la función nos dé el usuario con más horas acumuladas, seguido de una lista de acumulación de horas jugadas por año. "
   ]
  },
  {
   "cell_type": "markdown",
   "metadata": {},
   "source": [
    "Los datos son parecidos al caso anterior, necesitamos tomar del df_games los valores de genres y release_year, y del dataframe de items, los valores de playtime_forever y de user_id, por eso procedemos a hacer un merge entre ambos dataframes"
   ]
  },
  {
   "cell_type": "code",
   "execution_count": 67,
   "metadata": {},
   "outputs": [],
   "source": [
    "#Hacemos un merge entre df_games y df_items\n",
    "df_usuario_horas_jugadas = pd.merge(df_games, df_items, left_on='id', right_on='item_id', how='inner')"
   ]
  },
  {
   "cell_type": "code",
   "execution_count": 68,
   "metadata": {},
   "outputs": [
    {
     "data": {
      "text/html": [
       "<div>\n",
       "<style scoped>\n",
       "    .dataframe tbody tr th:only-of-type {\n",
       "        vertical-align: middle;\n",
       "    }\n",
       "\n",
       "    .dataframe tbody tr th {\n",
       "        vertical-align: top;\n",
       "    }\n",
       "\n",
       "    .dataframe thead th {\n",
       "        text-align: right;\n",
       "    }\n",
       "</style>\n",
       "<table border=\"1\" class=\"dataframe\">\n",
       "  <thead>\n",
       "    <tr style=\"text-align: right;\">\n",
       "      <th></th>\n",
       "      <th>genres</th>\n",
       "      <th>title</th>\n",
       "      <th>id</th>\n",
       "      <th>release_year</th>\n",
       "      <th>user_id</th>\n",
       "      <th>item_id</th>\n",
       "      <th>item_name</th>\n",
       "      <th>playtime_forever</th>\n",
       "    </tr>\n",
       "  </thead>\n",
       "  <tbody>\n",
       "    <tr>\n",
       "      <th>0</th>\n",
       "      <td>Action</td>\n",
       "      <td>Carmageddon Max Pack</td>\n",
       "      <td>282010</td>\n",
       "      <td>1997</td>\n",
       "      <td>UTNerd24</td>\n",
       "      <td>282010</td>\n",
       "      <td>Carmageddon Max Pack</td>\n",
       "      <td>5</td>\n",
       "    </tr>\n",
       "    <tr>\n",
       "      <th>1</th>\n",
       "      <td>Action</td>\n",
       "      <td>Carmageddon Max Pack</td>\n",
       "      <td>282010</td>\n",
       "      <td>1997</td>\n",
       "      <td>saint556</td>\n",
       "      <td>282010</td>\n",
       "      <td>Carmageddon Max Pack</td>\n",
       "      <td>13</td>\n",
       "    </tr>\n",
       "    <tr>\n",
       "      <th>2</th>\n",
       "      <td>Action</td>\n",
       "      <td>Carmageddon Max Pack</td>\n",
       "      <td>282010</td>\n",
       "      <td>1997</td>\n",
       "      <td>chidvd</td>\n",
       "      <td>282010</td>\n",
       "      <td>Carmageddon Max Pack</td>\n",
       "      <td>110</td>\n",
       "    </tr>\n",
       "    <tr>\n",
       "      <th>3</th>\n",
       "      <td>Action</td>\n",
       "      <td>Carmageddon Max Pack</td>\n",
       "      <td>282010</td>\n",
       "      <td>1997</td>\n",
       "      <td>aerpub</td>\n",
       "      <td>282010</td>\n",
       "      <td>Carmageddon Max Pack</td>\n",
       "      <td>13</td>\n",
       "    </tr>\n",
       "    <tr>\n",
       "      <th>4</th>\n",
       "      <td>Action</td>\n",
       "      <td>Carmageddon Max Pack</td>\n",
       "      <td>282010</td>\n",
       "      <td>1997</td>\n",
       "      <td>lucifer666678</td>\n",
       "      <td>282010</td>\n",
       "      <td>Carmageddon Max Pack</td>\n",
       "      <td>8</td>\n",
       "    </tr>\n",
       "  </tbody>\n",
       "</table>\n",
       "</div>"
      ],
      "text/plain": [
       "   genres                 title      id  release_year        user_id  item_id  \\\n",
       "0  Action  Carmageddon Max Pack  282010          1997       UTNerd24   282010   \n",
       "1  Action  Carmageddon Max Pack  282010          1997       saint556   282010   \n",
       "2  Action  Carmageddon Max Pack  282010          1997         chidvd   282010   \n",
       "3  Action  Carmageddon Max Pack  282010          1997         aerpub   282010   \n",
       "4  Action  Carmageddon Max Pack  282010          1997  lucifer666678   282010   \n",
       "\n",
       "              item_name  playtime_forever  \n",
       "0  Carmageddon Max Pack                 5  \n",
       "1  Carmageddon Max Pack                13  \n",
       "2  Carmageddon Max Pack               110  \n",
       "3  Carmageddon Max Pack                13  \n",
       "4  Carmageddon Max Pack                 8  "
      ]
     },
     "execution_count": 68,
     "metadata": {},
     "output_type": "execute_result"
    }
   ],
   "source": [
    "#Revisamos los datos\n",
    "df_usuario_horas_jugadas.head()"
   ]
  },
  {
   "cell_type": "code",
   "execution_count": 69,
   "metadata": {},
   "outputs": [
    {
     "data": {
      "text/html": [
       "<div>\n",
       "<style scoped>\n",
       "    .dataframe tbody tr th:only-of-type {\n",
       "        vertical-align: middle;\n",
       "    }\n",
       "\n",
       "    .dataframe tbody tr th {\n",
       "        vertical-align: top;\n",
       "    }\n",
       "\n",
       "    .dataframe thead th {\n",
       "        text-align: right;\n",
       "    }\n",
       "</style>\n",
       "<table border=\"1\" class=\"dataframe\">\n",
       "  <thead>\n",
       "    <tr style=\"text-align: right;\">\n",
       "      <th></th>\n",
       "      <th>genres</th>\n",
       "      <th>release_year</th>\n",
       "      <th>user_id</th>\n",
       "      <th>playtime_forever</th>\n",
       "    </tr>\n",
       "  </thead>\n",
       "  <tbody>\n",
       "    <tr>\n",
       "      <th>0</th>\n",
       "      <td>Action</td>\n",
       "      <td>1997</td>\n",
       "      <td>UTNerd24</td>\n",
       "      <td>5</td>\n",
       "    </tr>\n",
       "    <tr>\n",
       "      <th>1</th>\n",
       "      <td>Action</td>\n",
       "      <td>1997</td>\n",
       "      <td>saint556</td>\n",
       "      <td>13</td>\n",
       "    </tr>\n",
       "    <tr>\n",
       "      <th>2</th>\n",
       "      <td>Action</td>\n",
       "      <td>1997</td>\n",
       "      <td>chidvd</td>\n",
       "      <td>110</td>\n",
       "    </tr>\n",
       "    <tr>\n",
       "      <th>3</th>\n",
       "      <td>Action</td>\n",
       "      <td>1997</td>\n",
       "      <td>aerpub</td>\n",
       "      <td>13</td>\n",
       "    </tr>\n",
       "    <tr>\n",
       "      <th>4</th>\n",
       "      <td>Action</td>\n",
       "      <td>1997</td>\n",
       "      <td>lucifer666678</td>\n",
       "      <td>8</td>\n",
       "    </tr>\n",
       "    <tr>\n",
       "      <th>...</th>\n",
       "      <td>...</td>\n",
       "      <td>...</td>\n",
       "      <td>...</td>\n",
       "      <td>...</td>\n",
       "    </tr>\n",
       "    <tr>\n",
       "      <th>6887152</th>\n",
       "      <td>Action</td>\n",
       "      <td>2004</td>\n",
       "      <td>76561198208507532</td>\n",
       "      <td>203</td>\n",
       "    </tr>\n",
       "    <tr>\n",
       "      <th>6887153</th>\n",
       "      <td>Action</td>\n",
       "      <td>2004</td>\n",
       "      <td>76561198221578852</td>\n",
       "      <td>244</td>\n",
       "    </tr>\n",
       "    <tr>\n",
       "      <th>6887154</th>\n",
       "      <td>Action</td>\n",
       "      <td>2004</td>\n",
       "      <td>EnVyIsSmexy</td>\n",
       "      <td>7</td>\n",
       "    </tr>\n",
       "    <tr>\n",
       "      <th>6887155</th>\n",
       "      <td>Action</td>\n",
       "      <td>2004</td>\n",
       "      <td>76561198283312749</td>\n",
       "      <td>9</td>\n",
       "    </tr>\n",
       "    <tr>\n",
       "      <th>6887156</th>\n",
       "      <td>Action</td>\n",
       "      <td>2004</td>\n",
       "      <td>76561198312638244</td>\n",
       "      <td>99</td>\n",
       "    </tr>\n",
       "  </tbody>\n",
       "</table>\n",
       "<p>6887157 rows × 4 columns</p>\n",
       "</div>"
      ],
      "text/plain": [
       "         genres  release_year            user_id  playtime_forever\n",
       "0        Action          1997           UTNerd24                 5\n",
       "1        Action          1997           saint556                13\n",
       "2        Action          1997             chidvd               110\n",
       "3        Action          1997             aerpub                13\n",
       "4        Action          1997      lucifer666678                 8\n",
       "...         ...           ...                ...               ...\n",
       "6887152  Action          2004  76561198208507532               203\n",
       "6887153  Action          2004  76561198221578852               244\n",
       "6887154  Action          2004        EnVyIsSmexy                 7\n",
       "6887155  Action          2004  76561198283312749                 9\n",
       "6887156  Action          2004  76561198312638244                99\n",
       "\n",
       "[6887157 rows x 4 columns]"
      ]
     },
     "execution_count": 69,
     "metadata": {},
     "output_type": "execute_result"
    }
   ],
   "source": [
    "#Eliminamos las columnas que no vamos a utilizar.\n",
    "df_usuario_horas_jugadas.drop(columns=['title','id','item_id','item_name'])"
   ]
  },
  {
   "cell_type": "markdown",
   "metadata": {},
   "source": [
    "Como en la primer función, en este caso vamos a aprovechar a realizar el agrupamiento para que se sumen las horas acumuladas y así disminuir el tamaño de nuestro dataset. "
   ]
  },
  {
   "cell_type": "code",
   "execution_count": 70,
   "metadata": {},
   "outputs": [],
   "source": [
    "#Hacemos group by sumando los playtime\n",
    "df_usuario_horas_jugadas = df_usuario_horas_jugadas.groupby(['genres', 'release_year','user_id'])['playtime_forever'].sum().reset_index()"
   ]
  },
  {
   "cell_type": "code",
   "execution_count": 71,
   "metadata": {},
   "outputs": [
    {
     "data": {
      "text/html": [
       "<div>\n",
       "<style scoped>\n",
       "    .dataframe tbody tr th:only-of-type {\n",
       "        vertical-align: middle;\n",
       "    }\n",
       "\n",
       "    .dataframe tbody tr th {\n",
       "        vertical-align: top;\n",
       "    }\n",
       "\n",
       "    .dataframe thead th {\n",
       "        text-align: right;\n",
       "    }\n",
       "</style>\n",
       "<table border=\"1\" class=\"dataframe\">\n",
       "  <thead>\n",
       "    <tr style=\"text-align: right;\">\n",
       "      <th></th>\n",
       "      <th>genres</th>\n",
       "      <th>release_year</th>\n",
       "      <th>user_id</th>\n",
       "      <th>playtime_forever</th>\n",
       "    </tr>\n",
       "  </thead>\n",
       "  <tbody>\n",
       "    <tr>\n",
       "      <th>0</th>\n",
       "      <td>Action</td>\n",
       "      <td>1983</td>\n",
       "      <td>2Ta4</td>\n",
       "      <td>18</td>\n",
       "    </tr>\n",
       "    <tr>\n",
       "      <th>1</th>\n",
       "      <td>Action</td>\n",
       "      <td>1983</td>\n",
       "      <td>76561197966936422</td>\n",
       "      <td>331</td>\n",
       "    </tr>\n",
       "    <tr>\n",
       "      <th>2</th>\n",
       "      <td>Action</td>\n",
       "      <td>1983</td>\n",
       "      <td>76561197968887720</td>\n",
       "      <td>1</td>\n",
       "    </tr>\n",
       "    <tr>\n",
       "      <th>3</th>\n",
       "      <td>Action</td>\n",
       "      <td>1983</td>\n",
       "      <td>76561197969020980</td>\n",
       "      <td>98</td>\n",
       "    </tr>\n",
       "    <tr>\n",
       "      <th>4</th>\n",
       "      <td>Action</td>\n",
       "      <td>1983</td>\n",
       "      <td>76561197971401137</td>\n",
       "      <td>33</td>\n",
       "    </tr>\n",
       "    <tr>\n",
       "      <th>...</th>\n",
       "      <td>...</td>\n",
       "      <td>...</td>\n",
       "      <td>...</td>\n",
       "      <td>...</td>\n",
       "    </tr>\n",
       "    <tr>\n",
       "      <th>2844538</th>\n",
       "      <td>Web Publishing</td>\n",
       "      <td>2017</td>\n",
       "      <td>Eosoforcus</td>\n",
       "      <td>58</td>\n",
       "    </tr>\n",
       "    <tr>\n",
       "      <th>2844539</th>\n",
       "      <td>Web Publishing</td>\n",
       "      <td>2017</td>\n",
       "      <td>N47H4NI3L</td>\n",
       "      <td>1635</td>\n",
       "    </tr>\n",
       "    <tr>\n",
       "      <th>2844540</th>\n",
       "      <td>Web Publishing</td>\n",
       "      <td>2017</td>\n",
       "      <td>dirklah</td>\n",
       "      <td>796</td>\n",
       "    </tr>\n",
       "    <tr>\n",
       "      <th>2844541</th>\n",
       "      <td>Web Publishing</td>\n",
       "      <td>2017</td>\n",
       "      <td>kushziller</td>\n",
       "      <td>251</td>\n",
       "    </tr>\n",
       "    <tr>\n",
       "      <th>2844542</th>\n",
       "      <td>Web Publishing</td>\n",
       "      <td>2017</td>\n",
       "      <td>wiinga</td>\n",
       "      <td>471</td>\n",
       "    </tr>\n",
       "  </tbody>\n",
       "</table>\n",
       "<p>2844543 rows × 4 columns</p>\n",
       "</div>"
      ],
      "text/plain": [
       "                 genres  release_year            user_id  playtime_forever\n",
       "0                Action          1983               2Ta4                18\n",
       "1                Action          1983  76561197966936422               331\n",
       "2                Action          1983  76561197968887720                 1\n",
       "3                Action          1983  76561197969020980                98\n",
       "4                Action          1983  76561197971401137                33\n",
       "...                 ...           ...                ...               ...\n",
       "2844538  Web Publishing          2017         Eosoforcus                58\n",
       "2844539  Web Publishing          2017          N47H4NI3L              1635\n",
       "2844540  Web Publishing          2017            dirklah               796\n",
       "2844541  Web Publishing          2017         kushziller               251\n",
       "2844542  Web Publishing          2017             wiinga               471\n",
       "\n",
       "[2844543 rows x 4 columns]"
      ]
     },
     "execution_count": 71,
     "metadata": {},
     "output_type": "execute_result"
    }
   ],
   "source": [
    "#Revisamos el group by\n",
    "df_usuario_horas_jugadas"
   ]
  },
  {
   "cell_type": "code",
   "execution_count": 72,
   "metadata": {},
   "outputs": [],
   "source": [
    "#Exportamos a csv\n",
    "#df_usuario_horas_jugadas.to_csv('Data/usuario_horas_jugadas.csv', index=False)"
   ]
  },
  {
   "cell_type": "markdown",
   "metadata": {},
   "source": [
    "Al exportar a csv, el archivo pesa mas que los 50mb recomendados por archivos para github. Por lo tanto decidimos pasarlo a parquet."
   ]
  },
  {
   "cell_type": "code",
   "execution_count": 73,
   "metadata": {},
   "outputs": [],
   "source": [
    "df_usuario_horas_jugadas.to_parquet('Data/usuario_horas_jugadas.parquet', engine='pyarrow')"
   ]
  },
  {
   "cell_type": "markdown",
   "metadata": {},
   "source": [
    "## **3) Función UsersRecommend**\n",
    "\n",
    "def UsersRecommend( año : int ): Devuelve el top 3 de juegos MÁS recomendados por usuarios para el año dado. (reviews.recommend = True y comentarios positivos/neutrales)\n",
    "#Ejemplo de retorno: [{\"Puesto 1\" : X}, {\"Puesto 2\" : Y},{\"Puesto 3\" : Z}]"
   ]
  },
  {
   "cell_type": "markdown",
   "metadata": {},
   "source": [
    "Para este caso, queremos que al ingresar un año en especial, basado en que las recomendaciones sean True, y los review sean positivas o neutrales, nos recomienda los top 3 juegos más recomendados. "
   ]
  },
  {
   "cell_type": "markdown",
   "metadata": {},
   "source": [
    "Lo que deberíamos hacer es hacer un merge entre df_reviews de donde tomaremos la columna year_review, recommend y sentimiento (columna creada a partir del analisis de sentimiento) y debemos hacer un merge para obtener el nombre de los titulos de los juegos."
   ]
  },
  {
   "cell_type": "markdown",
   "metadata": {},
   "source": [
    "Como una manera de optimizar la consulta, como podría hacer un merge de df_reviews con df_games o con df_items, porque en ambas tengo los títulos, lo haré con df_games que tiene menos datos para optimizar el tiempo de ejecución."
   ]
  },
  {
   "cell_type": "code",
   "execution_count": 74,
   "metadata": {},
   "outputs": [],
   "source": [
    "#Hacemos el merge entre df_games y df_reviews en función de la columna id e item_id que tienen la misma información\n",
    "df_recomendaciones_positivas=pd.merge(df_games, df_reviews, left_on='id', right_on='item_id', how='inner')"
   ]
  },
  {
   "cell_type": "code",
   "execution_count": 75,
   "metadata": {},
   "outputs": [
    {
     "data": {
      "text/html": [
       "<div>\n",
       "<style scoped>\n",
       "    .dataframe tbody tr th:only-of-type {\n",
       "        vertical-align: middle;\n",
       "    }\n",
       "\n",
       "    .dataframe tbody tr th {\n",
       "        vertical-align: top;\n",
       "    }\n",
       "\n",
       "    .dataframe thead th {\n",
       "        text-align: right;\n",
       "    }\n",
       "</style>\n",
       "<table border=\"1\" class=\"dataframe\">\n",
       "  <thead>\n",
       "    <tr style=\"text-align: right;\">\n",
       "      <th></th>\n",
       "      <th>genres</th>\n",
       "      <th>title</th>\n",
       "      <th>id</th>\n",
       "      <th>release_year</th>\n",
       "      <th>user_id</th>\n",
       "      <th>item_id</th>\n",
       "      <th>recommend</th>\n",
       "      <th>year_review</th>\n",
       "      <th>sentimiento</th>\n",
       "    </tr>\n",
       "  </thead>\n",
       "  <tbody>\n",
       "    <tr>\n",
       "      <th>0</th>\n",
       "      <td>Action</td>\n",
       "      <td>Half-Life</td>\n",
       "      <td>70</td>\n",
       "      <td>1998</td>\n",
       "      <td>exiaez</td>\n",
       "      <td>70</td>\n",
       "      <td>True</td>\n",
       "      <td>2015</td>\n",
       "      <td>0</td>\n",
       "    </tr>\n",
       "    <tr>\n",
       "      <th>1</th>\n",
       "      <td>Action</td>\n",
       "      <td>Half-Life</td>\n",
       "      <td>70</td>\n",
       "      <td>1998</td>\n",
       "      <td>mrpfresh</td>\n",
       "      <td>70</td>\n",
       "      <td>True</td>\n",
       "      <td>2011</td>\n",
       "      <td>0</td>\n",
       "    </tr>\n",
       "    <tr>\n",
       "      <th>2</th>\n",
       "      <td>Action</td>\n",
       "      <td>Half-Life</td>\n",
       "      <td>70</td>\n",
       "      <td>1998</td>\n",
       "      <td>armouredmarshmallow</td>\n",
       "      <td>70</td>\n",
       "      <td>True</td>\n",
       "      <td>2014</td>\n",
       "      <td>0</td>\n",
       "    </tr>\n",
       "    <tr>\n",
       "      <th>3</th>\n",
       "      <td>Action</td>\n",
       "      <td>Half-Life</td>\n",
       "      <td>70</td>\n",
       "      <td>1998</td>\n",
       "      <td>Bluegills</td>\n",
       "      <td>70</td>\n",
       "      <td>True</td>\n",
       "      <td>2013</td>\n",
       "      <td>2</td>\n",
       "    </tr>\n",
       "    <tr>\n",
       "      <th>4</th>\n",
       "      <td>Action</td>\n",
       "      <td>Half-Life</td>\n",
       "      <td>70</td>\n",
       "      <td>1998</td>\n",
       "      <td>76561198071955492</td>\n",
       "      <td>70</td>\n",
       "      <td>True</td>\n",
       "      <td>2013</td>\n",
       "      <td>0</td>\n",
       "    </tr>\n",
       "  </tbody>\n",
       "</table>\n",
       "</div>"
      ],
      "text/plain": [
       "   genres      title  id  release_year              user_id  item_id  \\\n",
       "0  Action  Half-Life  70          1998               exiaez       70   \n",
       "1  Action  Half-Life  70          1998             mrpfresh       70   \n",
       "2  Action  Half-Life  70          1998  armouredmarshmallow       70   \n",
       "3  Action  Half-Life  70          1998            Bluegills       70   \n",
       "4  Action  Half-Life  70          1998    76561198071955492       70   \n",
       "\n",
       "   recommend  year_review  sentimiento  \n",
       "0       True         2015            0  \n",
       "1       True         2011            0  \n",
       "2       True         2014            0  \n",
       "3       True         2013            2  \n",
       "4       True         2013            0  "
      ]
     },
     "execution_count": 75,
     "metadata": {},
     "output_type": "execute_result"
    }
   ],
   "source": [
    "#Observamos como nos queda el df\n",
    "df_recomendaciones_positivas.head()"
   ]
  },
  {
   "cell_type": "markdown",
   "metadata": {},
   "source": [
    "Elijo quedarme con la columna de year_review, en vez de release_year, porque como vamos a considerar las recomendaciones, el año de la recomendación es mucho más acertado para el análisis que deseamos hacer (puede que en el año de salida del juego aún no haya recomendaciones). Procedemos a eliminar release_year y otras columnas que no utilizaremos para esta función."
   ]
  },
  {
   "cell_type": "code",
   "execution_count": 76,
   "metadata": {},
   "outputs": [],
   "source": [
    "#Eliminamos las columnas que no utilizaremos para esta función\n",
    "df_recomendaciones_positivas=df_recomendaciones_positivas.drop(columns=['genres','id', 'release_year','user_id','item_id'])"
   ]
  },
  {
   "cell_type": "code",
   "execution_count": 77,
   "metadata": {},
   "outputs": [
    {
     "data": {
      "text/html": [
       "<div>\n",
       "<style scoped>\n",
       "    .dataframe tbody tr th:only-of-type {\n",
       "        vertical-align: middle;\n",
       "    }\n",
       "\n",
       "    .dataframe tbody tr th {\n",
       "        vertical-align: top;\n",
       "    }\n",
       "\n",
       "    .dataframe thead th {\n",
       "        text-align: right;\n",
       "    }\n",
       "</style>\n",
       "<table border=\"1\" class=\"dataframe\">\n",
       "  <thead>\n",
       "    <tr style=\"text-align: right;\">\n",
       "      <th></th>\n",
       "      <th>title</th>\n",
       "      <th>recommend</th>\n",
       "      <th>year_review</th>\n",
       "      <th>sentimiento</th>\n",
       "    </tr>\n",
       "  </thead>\n",
       "  <tbody>\n",
       "    <tr>\n",
       "      <th>0</th>\n",
       "      <td>Half-Life</td>\n",
       "      <td>True</td>\n",
       "      <td>2015</td>\n",
       "      <td>0</td>\n",
       "    </tr>\n",
       "    <tr>\n",
       "      <th>1</th>\n",
       "      <td>Half-Life</td>\n",
       "      <td>True</td>\n",
       "      <td>2011</td>\n",
       "      <td>0</td>\n",
       "    </tr>\n",
       "    <tr>\n",
       "      <th>2</th>\n",
       "      <td>Half-Life</td>\n",
       "      <td>True</td>\n",
       "      <td>2014</td>\n",
       "      <td>0</td>\n",
       "    </tr>\n",
       "    <tr>\n",
       "      <th>3</th>\n",
       "      <td>Half-Life</td>\n",
       "      <td>True</td>\n",
       "      <td>2013</td>\n",
       "      <td>2</td>\n",
       "    </tr>\n",
       "    <tr>\n",
       "      <th>4</th>\n",
       "      <td>Half-Life</td>\n",
       "      <td>True</td>\n",
       "      <td>2013</td>\n",
       "      <td>0</td>\n",
       "    </tr>\n",
       "  </tbody>\n",
       "</table>\n",
       "</div>"
      ],
      "text/plain": [
       "       title  recommend  year_review  sentimiento\n",
       "0  Half-Life       True         2015            0\n",
       "1  Half-Life       True         2011            0\n",
       "2  Half-Life       True         2014            0\n",
       "3  Half-Life       True         2013            2\n",
       "4  Half-Life       True         2013            0"
      ]
     },
     "execution_count": 77,
     "metadata": {},
     "output_type": "execute_result"
    }
   ],
   "source": [
    "df_recomendaciones_positivas.head()"
   ]
  },
  {
   "cell_type": "code",
   "execution_count": 78,
   "metadata": {},
   "outputs": [
    {
     "data": {
      "text/plain": [
       "recommend\n",
       "True     92737\n",
       "False    10509\n",
       "Name: count, dtype: int64"
      ]
     },
     "execution_count": 78,
     "metadata": {},
     "output_type": "execute_result"
    }
   ],
   "source": [
    "#Contamos los valores True y False de la columna recommend\n",
    "df_recomendaciones_positivas['recommend'].value_counts()"
   ]
  },
  {
   "cell_type": "markdown",
   "metadata": {},
   "source": [
    "Para optimizar aún más la consulta, vamos a filtrar nuestro dataframe y vamos a quedarnos en primera instancia con los recommend=True para las recomendaciones positivas."
   ]
  },
  {
   "cell_type": "code",
   "execution_count": 79,
   "metadata": {},
   "outputs": [],
   "source": [
    "#Para este caso, me elijo con los recommend que sean True, y los filtro\n",
    "df_recomendaciones_positivas=df_recomendaciones_positivas[df_recomendaciones_positivas['recommend']==True]"
   ]
  },
  {
   "cell_type": "code",
   "execution_count": 80,
   "metadata": {},
   "outputs": [
    {
     "data": {
      "text/plain": [
       "recommend\n",
       "True    92737\n",
       "Name: count, dtype: int64"
      ]
     },
     "execution_count": 80,
     "metadata": {},
     "output_type": "execute_result"
    }
   ],
   "source": [
    "#Vuelvo a hacer el conteo, para verificar que mi df solo tenga los valores True\n",
    "df_recomendaciones_positivas['recommend'].value_counts()"
   ]
  },
  {
   "cell_type": "markdown",
   "metadata": {},
   "source": [
    "Ahora también vamos a filtrar los valores donde sentimiento sea 1 o 2 (neutral o positivo) por lo que eliminamos donde la columna sentimiento sea 0."
   ]
  },
  {
   "cell_type": "code",
   "execution_count": 81,
   "metadata": {},
   "outputs": [
    {
     "data": {
      "text/plain": [
       "sentimiento\n",
       "2    56527\n",
       "1    19549\n",
       "0    16661\n",
       "Name: count, dtype: int64"
      ]
     },
     "execution_count": 81,
     "metadata": {},
     "output_type": "execute_result"
    }
   ],
   "source": [
    "#Verifico ahora, para los recommend = True, el conteo de los valores de la columna sentimiento\n",
    "df_recomendaciones_positivas['sentimiento'].value_counts()"
   ]
  },
  {
   "cell_type": "code",
   "execution_count": 82,
   "metadata": {},
   "outputs": [],
   "source": [
    "#Me quedo solo en mi df con los valores de sentimiento que sean distintos de 0, 1 y 2 (positivo y neutral)\n",
    "df_recomendaciones_positivas=df_recomendaciones_positivas[df_recomendaciones_positivas['sentimiento']!=0]"
   ]
  },
  {
   "cell_type": "code",
   "execution_count": 83,
   "metadata": {},
   "outputs": [
    {
     "data": {
      "text/plain": [
       "sentimiento\n",
       "2    56527\n",
       "1    19549\n",
       "Name: count, dtype: int64"
      ]
     },
     "execution_count": 83,
     "metadata": {},
     "output_type": "execute_result"
    }
   ],
   "source": [
    "#Verifico el conteo de los valores nuevamente para ver el cambio\n",
    "df_recomendaciones_positivas['sentimiento'].value_counts()"
   ]
  },
  {
   "cell_type": "code",
   "execution_count": 84,
   "metadata": {},
   "outputs": [
    {
     "data": {
      "text/html": [
       "<div>\n",
       "<style scoped>\n",
       "    .dataframe tbody tr th:only-of-type {\n",
       "        vertical-align: middle;\n",
       "    }\n",
       "\n",
       "    .dataframe tbody tr th {\n",
       "        vertical-align: top;\n",
       "    }\n",
       "\n",
       "    .dataframe thead th {\n",
       "        text-align: right;\n",
       "    }\n",
       "</style>\n",
       "<table border=\"1\" class=\"dataframe\">\n",
       "  <thead>\n",
       "    <tr style=\"text-align: right;\">\n",
       "      <th></th>\n",
       "      <th>title</th>\n",
       "      <th>recommend</th>\n",
       "      <th>year_review</th>\n",
       "      <th>sentimiento</th>\n",
       "    </tr>\n",
       "  </thead>\n",
       "  <tbody>\n",
       "    <tr>\n",
       "      <th>3</th>\n",
       "      <td>Half-Life</td>\n",
       "      <td>True</td>\n",
       "      <td>2013</td>\n",
       "      <td>2</td>\n",
       "    </tr>\n",
       "    <tr>\n",
       "      <th>7</th>\n",
       "      <td>Half-Life</td>\n",
       "      <td>True</td>\n",
       "      <td>2015</td>\n",
       "      <td>1</td>\n",
       "    </tr>\n",
       "    <tr>\n",
       "      <th>8</th>\n",
       "      <td>Half-Life</td>\n",
       "      <td>True</td>\n",
       "      <td>2014</td>\n",
       "      <td>2</td>\n",
       "    </tr>\n",
       "    <tr>\n",
       "      <th>9</th>\n",
       "      <td>Half-Life</td>\n",
       "      <td>True</td>\n",
       "      <td>2015</td>\n",
       "      <td>2</td>\n",
       "    </tr>\n",
       "    <tr>\n",
       "      <th>10</th>\n",
       "      <td>Half-Life</td>\n",
       "      <td>True</td>\n",
       "      <td>2014</td>\n",
       "      <td>2</td>\n",
       "    </tr>\n",
       "    <tr>\n",
       "      <th>...</th>\n",
       "      <td>...</td>\n",
       "      <td>...</td>\n",
       "      <td>...</td>\n",
       "      <td>...</td>\n",
       "    </tr>\n",
       "    <tr>\n",
       "      <th>103238</th>\n",
       "      <td>Counter-Strike: Condition Zero</td>\n",
       "      <td>True</td>\n",
       "      <td>2011</td>\n",
       "      <td>2</td>\n",
       "    </tr>\n",
       "    <tr>\n",
       "      <th>103239</th>\n",
       "      <td>Counter-Strike: Condition Zero</td>\n",
       "      <td>True</td>\n",
       "      <td>2014</td>\n",
       "      <td>2</td>\n",
       "    </tr>\n",
       "    <tr>\n",
       "      <th>103242</th>\n",
       "      <td>Counter-Strike: Condition Zero</td>\n",
       "      <td>True</td>\n",
       "      <td>2013</td>\n",
       "      <td>2</td>\n",
       "    </tr>\n",
       "    <tr>\n",
       "      <th>103243</th>\n",
       "      <td>Counter-Strike: Condition Zero</td>\n",
       "      <td>True</td>\n",
       "      <td>2015</td>\n",
       "      <td>2</td>\n",
       "    </tr>\n",
       "    <tr>\n",
       "      <th>103244</th>\n",
       "      <td>Counter-Strike: Condition Zero</td>\n",
       "      <td>True</td>\n",
       "      <td>2014</td>\n",
       "      <td>1</td>\n",
       "    </tr>\n",
       "  </tbody>\n",
       "</table>\n",
       "<p>76076 rows × 4 columns</p>\n",
       "</div>"
      ],
      "text/plain": [
       "                                 title  recommend  year_review  sentimiento\n",
       "3                            Half-Life       True         2013            2\n",
       "7                            Half-Life       True         2015            1\n",
       "8                            Half-Life       True         2014            2\n",
       "9                            Half-Life       True         2015            2\n",
       "10                           Half-Life       True         2014            2\n",
       "...                                ...        ...          ...          ...\n",
       "103238  Counter-Strike: Condition Zero       True         2011            2\n",
       "103239  Counter-Strike: Condition Zero       True         2014            2\n",
       "103242  Counter-Strike: Condition Zero       True         2013            2\n",
       "103243  Counter-Strike: Condition Zero       True         2015            2\n",
       "103244  Counter-Strike: Condition Zero       True         2014            1\n",
       "\n",
       "[76076 rows x 4 columns]"
      ]
     },
     "execution_count": 84,
     "metadata": {},
     "output_type": "execute_result"
    }
   ],
   "source": [
    "#Revisamos el df\n",
    "df_recomendaciones_positivas"
   ]
  },
  {
   "cell_type": "markdown",
   "metadata": {},
   "source": [
    "Hemos optimizado de la mejor manera posible el dataframe, ahora lo exportaremos para usar en las funciones"
   ]
  },
  {
   "cell_type": "code",
   "execution_count": 85,
   "metadata": {},
   "outputs": [],
   "source": [
    "#Exportamos a csv\n",
    "df_recomendaciones_positivas.to_csv('Data/recomendaciones_positivas.csv', index=False)"
   ]
  },
  {
   "cell_type": "markdown",
   "metadata": {},
   "source": [
    " ## **4) Función UsersNotRecommend**\n",
    "\n",
    "def UsersNotRecommend( año : int ): Devuelve el top 3 de juegos MENOS recomendados por usuarios para el año dado. (reviews.recommend = False y comentarios negativos)\n",
    "#Ejemplo de retorno: [{\"Puesto 1\" : X}, {\"Puesto 2\" : Y},{\"Puesto 3\" : Z}]"
   ]
  },
  {
   "cell_type": "markdown",
   "metadata": {},
   "source": [
    "En este caso, es análogo al anterior, pero al hacer el merge entre df_reviews y df_games, me voy a quedar con las recomendaciones que sean falsas, y los sentimiento igual a 0. "
   ]
  },
  {
   "cell_type": "code",
   "execution_count": 86,
   "metadata": {},
   "outputs": [],
   "source": [
    "#Hago el merge entre df_games y df_reviews a través de la columna id e item_id que tienen la misma información\n",
    "df_recomendaciones_negativas=pd.merge(df_games, df_reviews, left_on='id', right_on='item_id', how='inner')"
   ]
  },
  {
   "cell_type": "code",
   "execution_count": 87,
   "metadata": {},
   "outputs": [
    {
     "data": {
      "text/html": [
       "<div>\n",
       "<style scoped>\n",
       "    .dataframe tbody tr th:only-of-type {\n",
       "        vertical-align: middle;\n",
       "    }\n",
       "\n",
       "    .dataframe tbody tr th {\n",
       "        vertical-align: top;\n",
       "    }\n",
       "\n",
       "    .dataframe thead th {\n",
       "        text-align: right;\n",
       "    }\n",
       "</style>\n",
       "<table border=\"1\" class=\"dataframe\">\n",
       "  <thead>\n",
       "    <tr style=\"text-align: right;\">\n",
       "      <th></th>\n",
       "      <th>genres</th>\n",
       "      <th>title</th>\n",
       "      <th>id</th>\n",
       "      <th>release_year</th>\n",
       "      <th>user_id</th>\n",
       "      <th>item_id</th>\n",
       "      <th>recommend</th>\n",
       "      <th>year_review</th>\n",
       "      <th>sentimiento</th>\n",
       "    </tr>\n",
       "  </thead>\n",
       "  <tbody>\n",
       "    <tr>\n",
       "      <th>0</th>\n",
       "      <td>Action</td>\n",
       "      <td>Half-Life</td>\n",
       "      <td>70</td>\n",
       "      <td>1998</td>\n",
       "      <td>exiaez</td>\n",
       "      <td>70</td>\n",
       "      <td>True</td>\n",
       "      <td>2015</td>\n",
       "      <td>0</td>\n",
       "    </tr>\n",
       "    <tr>\n",
       "      <th>1</th>\n",
       "      <td>Action</td>\n",
       "      <td>Half-Life</td>\n",
       "      <td>70</td>\n",
       "      <td>1998</td>\n",
       "      <td>mrpfresh</td>\n",
       "      <td>70</td>\n",
       "      <td>True</td>\n",
       "      <td>2011</td>\n",
       "      <td>0</td>\n",
       "    </tr>\n",
       "    <tr>\n",
       "      <th>2</th>\n",
       "      <td>Action</td>\n",
       "      <td>Half-Life</td>\n",
       "      <td>70</td>\n",
       "      <td>1998</td>\n",
       "      <td>armouredmarshmallow</td>\n",
       "      <td>70</td>\n",
       "      <td>True</td>\n",
       "      <td>2014</td>\n",
       "      <td>0</td>\n",
       "    </tr>\n",
       "    <tr>\n",
       "      <th>3</th>\n",
       "      <td>Action</td>\n",
       "      <td>Half-Life</td>\n",
       "      <td>70</td>\n",
       "      <td>1998</td>\n",
       "      <td>Bluegills</td>\n",
       "      <td>70</td>\n",
       "      <td>True</td>\n",
       "      <td>2013</td>\n",
       "      <td>2</td>\n",
       "    </tr>\n",
       "    <tr>\n",
       "      <th>4</th>\n",
       "      <td>Action</td>\n",
       "      <td>Half-Life</td>\n",
       "      <td>70</td>\n",
       "      <td>1998</td>\n",
       "      <td>76561198071955492</td>\n",
       "      <td>70</td>\n",
       "      <td>True</td>\n",
       "      <td>2013</td>\n",
       "      <td>0</td>\n",
       "    </tr>\n",
       "    <tr>\n",
       "      <th>...</th>\n",
       "      <td>...</td>\n",
       "      <td>...</td>\n",
       "      <td>...</td>\n",
       "      <td>...</td>\n",
       "      <td>...</td>\n",
       "      <td>...</td>\n",
       "      <td>...</td>\n",
       "      <td>...</td>\n",
       "      <td>...</td>\n",
       "    </tr>\n",
       "    <tr>\n",
       "      <th>103241</th>\n",
       "      <td>Action</td>\n",
       "      <td>Counter-Strike: Condition Zero</td>\n",
       "      <td>80</td>\n",
       "      <td>2004</td>\n",
       "      <td>76561198023226082</td>\n",
       "      <td>80</td>\n",
       "      <td>False</td>\n",
       "      <td>2014</td>\n",
       "      <td>1</td>\n",
       "    </tr>\n",
       "    <tr>\n",
       "      <th>103242</th>\n",
       "      <td>Action</td>\n",
       "      <td>Counter-Strike: Condition Zero</td>\n",
       "      <td>80</td>\n",
       "      <td>2004</td>\n",
       "      <td>76561198030797558</td>\n",
       "      <td>80</td>\n",
       "      <td>True</td>\n",
       "      <td>2013</td>\n",
       "      <td>2</td>\n",
       "    </tr>\n",
       "    <tr>\n",
       "      <th>103243</th>\n",
       "      <td>Action</td>\n",
       "      <td>Counter-Strike: Condition Zero</td>\n",
       "      <td>80</td>\n",
       "      <td>2004</td>\n",
       "      <td>Deadly909</td>\n",
       "      <td>80</td>\n",
       "      <td>True</td>\n",
       "      <td>2015</td>\n",
       "      <td>2</td>\n",
       "    </tr>\n",
       "    <tr>\n",
       "      <th>103244</th>\n",
       "      <td>Action</td>\n",
       "      <td>Counter-Strike: Condition Zero</td>\n",
       "      <td>80</td>\n",
       "      <td>2004</td>\n",
       "      <td>76561198099442511</td>\n",
       "      <td>80</td>\n",
       "      <td>True</td>\n",
       "      <td>2014</td>\n",
       "      <td>1</td>\n",
       "    </tr>\n",
       "    <tr>\n",
       "      <th>103245</th>\n",
       "      <td>Action</td>\n",
       "      <td>Counter-Strike: Condition Zero</td>\n",
       "      <td>80</td>\n",
       "      <td>2004</td>\n",
       "      <td>BottleTopNation</td>\n",
       "      <td>80</td>\n",
       "      <td>True</td>\n",
       "      <td>2015</td>\n",
       "      <td>0</td>\n",
       "    </tr>\n",
       "  </tbody>\n",
       "</table>\n",
       "<p>103246 rows × 9 columns</p>\n",
       "</div>"
      ],
      "text/plain": [
       "        genres                           title  id  release_year  \\\n",
       "0       Action                       Half-Life  70          1998   \n",
       "1       Action                       Half-Life  70          1998   \n",
       "2       Action                       Half-Life  70          1998   \n",
       "3       Action                       Half-Life  70          1998   \n",
       "4       Action                       Half-Life  70          1998   \n",
       "...        ...                             ...  ..           ...   \n",
       "103241  Action  Counter-Strike: Condition Zero  80          2004   \n",
       "103242  Action  Counter-Strike: Condition Zero  80          2004   \n",
       "103243  Action  Counter-Strike: Condition Zero  80          2004   \n",
       "103244  Action  Counter-Strike: Condition Zero  80          2004   \n",
       "103245  Action  Counter-Strike: Condition Zero  80          2004   \n",
       "\n",
       "                    user_id  item_id  recommend  year_review  sentimiento  \n",
       "0                    exiaez       70       True         2015            0  \n",
       "1                  mrpfresh       70       True         2011            0  \n",
       "2       armouredmarshmallow       70       True         2014            0  \n",
       "3                 Bluegills       70       True         2013            2  \n",
       "4         76561198071955492       70       True         2013            0  \n",
       "...                     ...      ...        ...          ...          ...  \n",
       "103241    76561198023226082       80      False         2014            1  \n",
       "103242    76561198030797558       80       True         2013            2  \n",
       "103243            Deadly909       80       True         2015            2  \n",
       "103244    76561198099442511       80       True         2014            1  \n",
       "103245      BottleTopNation       80       True         2015            0  \n",
       "\n",
       "[103246 rows x 9 columns]"
      ]
     },
     "execution_count": 87,
     "metadata": {},
     "output_type": "execute_result"
    }
   ],
   "source": [
    "#Vemos el resultado del merge\n",
    "df_recomendaciones_negativas"
   ]
  },
  {
   "cell_type": "markdown",
   "metadata": {},
   "source": [
    "Como en el caso anterior, para basarme en un análisis de recomendaciones, considero el year_review y no el year_release por lo que procederé a eliminarlo."
   ]
  },
  {
   "cell_type": "code",
   "execution_count": 88,
   "metadata": {},
   "outputs": [],
   "source": [
    "#Eliminamos las columnas que no utilizaremos para esta función\n",
    "df_recomendaciones_negativas=df_recomendaciones_negativas.drop(columns=['genres','id', 'release_year','user_id','item_id'])"
   ]
  },
  {
   "cell_type": "code",
   "execution_count": 89,
   "metadata": {},
   "outputs": [
    {
     "data": {
      "text/plain": [
       "recommend\n",
       "True     92737\n",
       "False    10509\n",
       "Name: count, dtype: int64"
      ]
     },
     "execution_count": 89,
     "metadata": {},
     "output_type": "execute_result"
    }
   ],
   "source": [
    "#Cuento los valores que tengo en la columna recommend\n",
    "df_recomendaciones_negativas['recommend'].value_counts()"
   ]
  },
  {
   "cell_type": "code",
   "execution_count": 90,
   "metadata": {},
   "outputs": [],
   "source": [
    "#El df de recomendaciones negativas, solo mantendrá los valores donde recommend sea falso\n",
    "df_recomendaciones_negativas=df_recomendaciones_negativas[df_recomendaciones_negativas['recommend']==False]"
   ]
  },
  {
   "cell_type": "code",
   "execution_count": 91,
   "metadata": {},
   "outputs": [
    {
     "data": {
      "text/plain": [
       "recommend\n",
       "False    10509\n",
       "Name: count, dtype: int64"
      ]
     },
     "execution_count": 91,
     "metadata": {},
     "output_type": "execute_result"
    }
   ],
   "source": [
    "#Verifico que me haya quedado con los valores falsos\n",
    "df_recomendaciones_negativas['recommend'].value_counts()"
   ]
  },
  {
   "cell_type": "markdown",
   "metadata": {},
   "source": [
    "Ahora vamos a optimizar la columna de sentimiento, para un dataframe que solo contiene las recomendaciones que son False y vamos a intentar quedarnos con los valores donde sentimiento = 0."
   ]
  },
  {
   "cell_type": "code",
   "execution_count": 92,
   "metadata": {},
   "outputs": [
    {
     "data": {
      "text/plain": [
       "sentimiento\n",
       "0    5355\n",
       "2    2842\n",
       "1    2312\n",
       "Name: count, dtype: int64"
      ]
     },
     "execution_count": 92,
     "metadata": {},
     "output_type": "execute_result"
    }
   ],
   "source": [
    "#Ahora reviso que para recommend=False, los valores de la columna sentimiento\n",
    "df_recomendaciones_negativas['sentimiento'].value_counts()"
   ]
  },
  {
   "cell_type": "code",
   "execution_count": 93,
   "metadata": {},
   "outputs": [],
   "source": [
    "#Para este df, solo mantengo los valores de la columna sentimiento que sean 0\n",
    "df_recomendaciones_negativas=df_recomendaciones_negativas[df_recomendaciones_negativas['sentimiento']==0]"
   ]
  },
  {
   "cell_type": "code",
   "execution_count": 94,
   "metadata": {},
   "outputs": [
    {
     "data": {
      "text/plain": [
       "sentimiento\n",
       "0    5355\n",
       "Name: count, dtype: int64"
      ]
     },
     "execution_count": 94,
     "metadata": {},
     "output_type": "execute_result"
    }
   ],
   "source": [
    "#Verifico que se hayan eliminado los valores\n",
    "df_recomendaciones_negativas['sentimiento'].value_counts()"
   ]
  },
  {
   "cell_type": "code",
   "execution_count": 95,
   "metadata": {},
   "outputs": [
    {
     "data": {
      "text/html": [
       "<div>\n",
       "<style scoped>\n",
       "    .dataframe tbody tr th:only-of-type {\n",
       "        vertical-align: middle;\n",
       "    }\n",
       "\n",
       "    .dataframe tbody tr th {\n",
       "        vertical-align: top;\n",
       "    }\n",
       "\n",
       "    .dataframe thead th {\n",
       "        text-align: right;\n",
       "    }\n",
       "</style>\n",
       "<table border=\"1\" class=\"dataframe\">\n",
       "  <thead>\n",
       "    <tr style=\"text-align: right;\">\n",
       "      <th></th>\n",
       "      <th>title</th>\n",
       "      <th>recommend</th>\n",
       "      <th>year_review</th>\n",
       "      <th>sentimiento</th>\n",
       "    </tr>\n",
       "  </thead>\n",
       "  <tbody>\n",
       "    <tr>\n",
       "      <th>65</th>\n",
       "      <td>The Ship: Murder Party</td>\n",
       "      <td>False</td>\n",
       "      <td>2014</td>\n",
       "      <td>0</td>\n",
       "    </tr>\n",
       "    <tr>\n",
       "      <th>85</th>\n",
       "      <td>The Ship: Murder Party</td>\n",
       "      <td>False</td>\n",
       "      <td>2014</td>\n",
       "      <td>0</td>\n",
       "    </tr>\n",
       "    <tr>\n",
       "      <th>105</th>\n",
       "      <td>The Ship: Murder Party</td>\n",
       "      <td>False</td>\n",
       "      <td>2014</td>\n",
       "      <td>0</td>\n",
       "    </tr>\n",
       "    <tr>\n",
       "      <th>121</th>\n",
       "      <td>DEFCON</td>\n",
       "      <td>False</td>\n",
       "      <td>2014</td>\n",
       "      <td>0</td>\n",
       "    </tr>\n",
       "    <tr>\n",
       "      <th>129</th>\n",
       "      <td>DEFCON</td>\n",
       "      <td>False</td>\n",
       "      <td>2014</td>\n",
       "      <td>0</td>\n",
       "    </tr>\n",
       "    <tr>\n",
       "      <th>...</th>\n",
       "      <td>...</td>\n",
       "      <td>...</td>\n",
       "      <td>...</td>\n",
       "      <td>...</td>\n",
       "    </tr>\n",
       "    <tr>\n",
       "      <th>103151</th>\n",
       "      <td>Team Fortress Classic</td>\n",
       "      <td>False</td>\n",
       "      <td>2015</td>\n",
       "      <td>0</td>\n",
       "    </tr>\n",
       "    <tr>\n",
       "      <th>103157</th>\n",
       "      <td>Team Fortress Classic</td>\n",
       "      <td>False</td>\n",
       "      <td>2015</td>\n",
       "      <td>0</td>\n",
       "    </tr>\n",
       "    <tr>\n",
       "      <th>103160</th>\n",
       "      <td>Half-Life: Opposing Force</td>\n",
       "      <td>False</td>\n",
       "      <td>2014</td>\n",
       "      <td>0</td>\n",
       "    </tr>\n",
       "    <tr>\n",
       "      <th>103181</th>\n",
       "      <td>Counter-Strike</td>\n",
       "      <td>False</td>\n",
       "      <td>2015</td>\n",
       "      <td>0</td>\n",
       "    </tr>\n",
       "    <tr>\n",
       "      <th>103235</th>\n",
       "      <td>Counter-Strike: Condition Zero</td>\n",
       "      <td>False</td>\n",
       "      <td>2014</td>\n",
       "      <td>0</td>\n",
       "    </tr>\n",
       "  </tbody>\n",
       "</table>\n",
       "<p>5355 rows × 4 columns</p>\n",
       "</div>"
      ],
      "text/plain": [
       "                                 title  recommend  year_review  sentimiento\n",
       "65              The Ship: Murder Party      False         2014            0\n",
       "85              The Ship: Murder Party      False         2014            0\n",
       "105             The Ship: Murder Party      False         2014            0\n",
       "121                             DEFCON      False         2014            0\n",
       "129                             DEFCON      False         2014            0\n",
       "...                                ...        ...          ...          ...\n",
       "103151           Team Fortress Classic      False         2015            0\n",
       "103157           Team Fortress Classic      False         2015            0\n",
       "103160       Half-Life: Opposing Force      False         2014            0\n",
       "103181                  Counter-Strike      False         2015            0\n",
       "103235  Counter-Strike: Condition Zero      False         2014            0\n",
       "\n",
       "[5355 rows x 4 columns]"
      ]
     },
     "execution_count": 95,
     "metadata": {},
     "output_type": "execute_result"
    }
   ],
   "source": [
    "#Reviso como me queda el dataframe\n",
    "df_recomendaciones_negativas"
   ]
  },
  {
   "cell_type": "code",
   "execution_count": 96,
   "metadata": {},
   "outputs": [],
   "source": [
    "#Exportamos a csv\n",
    "df_recomendaciones_negativas.to_csv('Data/recomendaciones_negativas.csv', index=False)"
   ]
  },
  {
   "cell_type": "markdown",
   "metadata": {},
   "source": [
    "## **5) Función sentiment_analysis**\n",
    "\n",
    "def sentiment_analysis( año : int ): Según el año de lanzamiento, se devuelve una lista con la cantidad de registros de reseñas de usuarios que se encuentren categorizados con un análisis de sentimiento.\n",
    "#Ejemplo de retorno: {Negative = 182, Neutral = 120, Positive = 278}"
   ]
  },
  {
   "cell_type": "markdown",
   "metadata": {},
   "source": [
    "Para este caso, necesito que al ingresar el año, me devuelva una lista con la cantidad de registros según sentimiento que haya en cada caso. Por lo ranto, necesito que mi dataframe específico para esta función tenga el nombre del juego, el year_review y el sentimiento."
   ]
  },
  {
   "cell_type": "markdown",
   "metadata": {},
   "source": [
    "En mi df_reviews, tomaré el year_review y el sentimiento, pero me faltan los títulos, así que haré un merge, en este caso con df_games, que es un dataset más pequeño y me permite optimizar la operación."
   ]
  },
  {
   "cell_type": "code",
   "execution_count": 97,
   "metadata": {},
   "outputs": [],
   "source": [
    "#Hago el merge entre df_games y df_reviews a partir de la columna id e item_id que tienen la misma información\n",
    "df_sentiment_analysis=pd.merge(df_games, df_reviews, left_on='id', right_on='item_id', how='inner')"
   ]
  },
  {
   "cell_type": "code",
   "execution_count": 98,
   "metadata": {},
   "outputs": [
    {
     "data": {
      "text/html": [
       "<div>\n",
       "<style scoped>\n",
       "    .dataframe tbody tr th:only-of-type {\n",
       "        vertical-align: middle;\n",
       "    }\n",
       "\n",
       "    .dataframe tbody tr th {\n",
       "        vertical-align: top;\n",
       "    }\n",
       "\n",
       "    .dataframe thead th {\n",
       "        text-align: right;\n",
       "    }\n",
       "</style>\n",
       "<table border=\"1\" class=\"dataframe\">\n",
       "  <thead>\n",
       "    <tr style=\"text-align: right;\">\n",
       "      <th></th>\n",
       "      <th>genres</th>\n",
       "      <th>title</th>\n",
       "      <th>id</th>\n",
       "      <th>release_year</th>\n",
       "      <th>user_id</th>\n",
       "      <th>item_id</th>\n",
       "      <th>recommend</th>\n",
       "      <th>year_review</th>\n",
       "      <th>sentimiento</th>\n",
       "    </tr>\n",
       "  </thead>\n",
       "  <tbody>\n",
       "    <tr>\n",
       "      <th>0</th>\n",
       "      <td>Action</td>\n",
       "      <td>Half-Life</td>\n",
       "      <td>70</td>\n",
       "      <td>1998</td>\n",
       "      <td>exiaez</td>\n",
       "      <td>70</td>\n",
       "      <td>True</td>\n",
       "      <td>2015</td>\n",
       "      <td>0</td>\n",
       "    </tr>\n",
       "    <tr>\n",
       "      <th>1</th>\n",
       "      <td>Action</td>\n",
       "      <td>Half-Life</td>\n",
       "      <td>70</td>\n",
       "      <td>1998</td>\n",
       "      <td>mrpfresh</td>\n",
       "      <td>70</td>\n",
       "      <td>True</td>\n",
       "      <td>2011</td>\n",
       "      <td>0</td>\n",
       "    </tr>\n",
       "    <tr>\n",
       "      <th>2</th>\n",
       "      <td>Action</td>\n",
       "      <td>Half-Life</td>\n",
       "      <td>70</td>\n",
       "      <td>1998</td>\n",
       "      <td>armouredmarshmallow</td>\n",
       "      <td>70</td>\n",
       "      <td>True</td>\n",
       "      <td>2014</td>\n",
       "      <td>0</td>\n",
       "    </tr>\n",
       "    <tr>\n",
       "      <th>3</th>\n",
       "      <td>Action</td>\n",
       "      <td>Half-Life</td>\n",
       "      <td>70</td>\n",
       "      <td>1998</td>\n",
       "      <td>Bluegills</td>\n",
       "      <td>70</td>\n",
       "      <td>True</td>\n",
       "      <td>2013</td>\n",
       "      <td>2</td>\n",
       "    </tr>\n",
       "    <tr>\n",
       "      <th>4</th>\n",
       "      <td>Action</td>\n",
       "      <td>Half-Life</td>\n",
       "      <td>70</td>\n",
       "      <td>1998</td>\n",
       "      <td>76561198071955492</td>\n",
       "      <td>70</td>\n",
       "      <td>True</td>\n",
       "      <td>2013</td>\n",
       "      <td>0</td>\n",
       "    </tr>\n",
       "  </tbody>\n",
       "</table>\n",
       "</div>"
      ],
      "text/plain": [
       "   genres      title  id  release_year              user_id  item_id  \\\n",
       "0  Action  Half-Life  70          1998               exiaez       70   \n",
       "1  Action  Half-Life  70          1998             mrpfresh       70   \n",
       "2  Action  Half-Life  70          1998  armouredmarshmallow       70   \n",
       "3  Action  Half-Life  70          1998            Bluegills       70   \n",
       "4  Action  Half-Life  70          1998    76561198071955492       70   \n",
       "\n",
       "   recommend  year_review  sentimiento  \n",
       "0       True         2015            0  \n",
       "1       True         2011            0  \n",
       "2       True         2014            0  \n",
       "3       True         2013            2  \n",
       "4       True         2013            0  "
      ]
     },
     "execution_count": 98,
     "metadata": {},
     "output_type": "execute_result"
    }
   ],
   "source": [
    "#Verifico el dataset obtenido\n",
    "df_sentiment_analysis.head()"
   ]
  },
  {
   "cell_type": "markdown",
   "metadata": {},
   "source": [
    "Usaremos el año de lanzamiento (release_year) porque el enunciado lo pide. Particularmente creo que tendría más sentido hacerlo con el year_review"
   ]
  },
  {
   "cell_type": "code",
   "execution_count": 99,
   "metadata": {},
   "outputs": [],
   "source": [
    "#Eliminamos las columnas que no usaremos\n",
    "df_sentiment_analysis=df_sentiment_analysis.drop(columns=['genres','id', 'year_review','user_id','item_id','recommend','title'])"
   ]
  },
  {
   "cell_type": "code",
   "execution_count": 100,
   "metadata": {},
   "outputs": [
    {
     "data": {
      "text/html": [
       "<div>\n",
       "<style scoped>\n",
       "    .dataframe tbody tr th:only-of-type {\n",
       "        vertical-align: middle;\n",
       "    }\n",
       "\n",
       "    .dataframe tbody tr th {\n",
       "        vertical-align: top;\n",
       "    }\n",
       "\n",
       "    .dataframe thead th {\n",
       "        text-align: right;\n",
       "    }\n",
       "</style>\n",
       "<table border=\"1\" class=\"dataframe\">\n",
       "  <thead>\n",
       "    <tr style=\"text-align: right;\">\n",
       "      <th></th>\n",
       "      <th>release_year</th>\n",
       "      <th>sentimiento</th>\n",
       "    </tr>\n",
       "  </thead>\n",
       "  <tbody>\n",
       "    <tr>\n",
       "      <th>0</th>\n",
       "      <td>1998</td>\n",
       "      <td>0</td>\n",
       "    </tr>\n",
       "    <tr>\n",
       "      <th>1</th>\n",
       "      <td>1998</td>\n",
       "      <td>0</td>\n",
       "    </tr>\n",
       "    <tr>\n",
       "      <th>2</th>\n",
       "      <td>1998</td>\n",
       "      <td>0</td>\n",
       "    </tr>\n",
       "    <tr>\n",
       "      <th>3</th>\n",
       "      <td>1998</td>\n",
       "      <td>2</td>\n",
       "    </tr>\n",
       "    <tr>\n",
       "      <th>4</th>\n",
       "      <td>1998</td>\n",
       "      <td>0</td>\n",
       "    </tr>\n",
       "    <tr>\n",
       "      <th>...</th>\n",
       "      <td>...</td>\n",
       "      <td>...</td>\n",
       "    </tr>\n",
       "    <tr>\n",
       "      <th>103241</th>\n",
       "      <td>2004</td>\n",
       "      <td>1</td>\n",
       "    </tr>\n",
       "    <tr>\n",
       "      <th>103242</th>\n",
       "      <td>2004</td>\n",
       "      <td>2</td>\n",
       "    </tr>\n",
       "    <tr>\n",
       "      <th>103243</th>\n",
       "      <td>2004</td>\n",
       "      <td>2</td>\n",
       "    </tr>\n",
       "    <tr>\n",
       "      <th>103244</th>\n",
       "      <td>2004</td>\n",
       "      <td>1</td>\n",
       "    </tr>\n",
       "    <tr>\n",
       "      <th>103245</th>\n",
       "      <td>2004</td>\n",
       "      <td>0</td>\n",
       "    </tr>\n",
       "  </tbody>\n",
       "</table>\n",
       "<p>103246 rows × 2 columns</p>\n",
       "</div>"
      ],
      "text/plain": [
       "        release_year  sentimiento\n",
       "0               1998            0\n",
       "1               1998            0\n",
       "2               1998            0\n",
       "3               1998            2\n",
       "4               1998            0\n",
       "...              ...          ...\n",
       "103241          2004            1\n",
       "103242          2004            2\n",
       "103243          2004            2\n",
       "103244          2004            1\n",
       "103245          2004            0\n",
       "\n",
       "[103246 rows x 2 columns]"
      ]
     },
     "execution_count": 100,
     "metadata": {},
     "output_type": "execute_result"
    }
   ],
   "source": [
    "#Verificamos que las columnas se hayan elimnado correctamente\n",
    "df_sentiment_analysis"
   ]
  },
  {
   "cell_type": "code",
   "execution_count": 101,
   "metadata": {},
   "outputs": [],
   "source": [
    "#Exportamos a csv\n",
    "df_sentiment_analysis.to_csv('Data/sentiment_analysis.csv', index=False)"
   ]
  }
 ],
 "metadata": {
  "kernelspec": {
   "display_name": "Python 3",
   "language": "python",
   "name": "python3"
  },
  "language_info": {
   "codemirror_mode": {
    "name": "ipython",
    "version": 3
   },
   "file_extension": ".py",
   "mimetype": "text/x-python",
   "name": "python",
   "nbconvert_exporter": "python",
   "pygments_lexer": "ipython3",
   "version": "3.11.2"
  },
  "orig_nbformat": 4
 },
 "nbformat": 4,
 "nbformat_minor": 2
}
